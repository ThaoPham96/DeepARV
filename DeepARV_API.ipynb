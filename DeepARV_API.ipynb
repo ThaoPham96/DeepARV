{
  "nbformat": 4,
  "nbformat_minor": 0,
  "metadata": {
    "colab": {
      "provenance": []
    },
    "kernelspec": {
      "name": "python3",
      "display_name": "Python 3"
    },
    "language_info": {
      "name": "python"
    }
  },
  "cells": [
    {
      "cell_type": "markdown",
      "source": [
        "#  Setup"
      ],
      "metadata": {
        "id": "u5lsIswvVrmo"
      }
    },
    {
      "cell_type": "markdown",
      "source": [
        "Install and import neccessary packages."
      ],
      "metadata": {
        "id": "hrcoDCMPF0J7"
      }
    },
    {
      "cell_type": "code",
      "source": [
        "# Install RDKit.\n",
        "%%capture\n",
        "!pip install rdkit-pypi\n",
        "!pip install pubchempy\n",
        "\n",
        "import tensorflow as tf\n",
        "import pandas as pd\n",
        "import pubchempy as pc\n",
        "import numpy as np\n",
        "import os\n",
        "import re\n",
        "import matplotlib.pyplot as plt\n",
        "import seaborn as sns\n",
        "from tqdm import tqdm\n",
        "\n",
        "from rdkit import Chem\n",
        "from rdkit.Chem import Draw\n",
        "from rdkit.Chem.Draw import IPythonConsole\n",
        "from rdkit.Chem import Descriptors\n",
        "from rdkit.Chem import AllChem\n",
        "from rdkit import DataStructs\n",
        "from rdkit.Chem import PandasTools\n"
      ],
      "metadata": {
        "id": "bO3dd-A0Vrbm"
      },
      "execution_count": null,
      "outputs": []
    },
    {
      "cell_type": "markdown",
      "source": [
        "# Functions"
      ],
      "metadata": {
        "id": "625Apw23Fp-D"
      }
    },
    {
      "cell_type": "markdown",
      "source": [
        "Run this code below to create essential functions for the prediction."
      ],
      "metadata": {
        "id": "yUMGXgdbFshe"
      }
    },
    {
      "cell_type": "code",
      "execution_count": 92,
      "metadata": {
        "id": "yKCZ03QwVcyc"
      },
      "outputs": [],
      "source": [
        "class DeepARV:\n",
        "\n",
        "  def __init__(self, n_models=5):\n",
        "    # Load all models\n",
        "    self.model_trained  = {}\n",
        "    print('Loading models')\n",
        "    for i in tqdm(range(n_models)):\n",
        "      self.model_trained[i] = tf.keras.models.load_model('/content/drive/MyDrive/liverpool_hiv/Trained_Models/DeepARV_v1/DeepARV_model' +str(i))\n",
        "\n",
        "    # Load reference drugs\n",
        "    print('\\nLoading reference drugs')\n",
        "    self.reference_drugs = np.load('/content/drive/MyDrive/liverpool_hiv/Cleaning_data/ref_list.npy', allow_pickle=True)\n",
        "\n",
        "  def drugname_to_fp(self, name):\n",
        "    '''\n",
        "    Input is a drug name, output is list of array of the presence of\n",
        "    neighbour atoms [1] within fingerprint\n",
        "    '''\n",
        "    # get drug smiles\n",
        "    drug = pc.get_compounds(name, 'name')\n",
        "    drug_smiles = drug[0].isomeric_smiles\n",
        "\n",
        "    # Convert SMILES to Mol\n",
        "    drug_mol = Chem.MolFromSmiles(drug_smiles)\n",
        "\n",
        "    # Molecular to Morgan fingerprint bits\n",
        "    fp2 = AllChem.GetMorganFingerprintAsBitVect(drug_mol,2,nBits=1024)\n",
        "    fp2_list = list(fp2.GetOnBits())\n",
        "    return np.array((fp2_list))\n",
        "\n",
        "\n",
        "  def create_feature_vector(self, drug_fp):\n",
        "    '''\n",
        "    Geneate feature vector for drug (structural similarity profile)\n",
        "    by calculating Tanimoto score against the reference\n",
        "    list\n",
        "    '''\n",
        "    def tanimoto(fp1, fp2):\n",
        "      # This function computes Tanimoto score between 2 drugs\n",
        "      intersect  = np.intersect1d(fp1, fp2)\n",
        "      union = np.union1d(fp1, fp2)\n",
        "      sim_score = round(len(intersect) / len(union),4)\n",
        "      return sim_score\n",
        "\n",
        "    feature_vector = []\n",
        "    for i in self.reference_drugs:\n",
        "      sim_score = tanimoto(drug_fp, i)\n",
        "      feature_vector.append(sim_score)\n",
        "    return feature_vector\n",
        "\n",
        "  def ensemble_prediction(self, d1_fv, d2_fv):\n",
        "\n",
        "      # Concat into single input\n",
        "      X = np.hstack((d1_fv, d2_fv)).reshape(1,-1)\n",
        "      ## dict containing all results\n",
        "      self.all_results = {}\n",
        "      ##dict containing results from single ensemble\n",
        "      self.temp_results = []\n",
        "      for i in range(5):\n",
        "          #make prediction\n",
        "          #iterate through each ensemble\n",
        "          self.all_results[i] = self.model_trained[i].predict(X)\n",
        "\n",
        "          #store each final class prediction per model in temp dict\n",
        "          class_pred = []\n",
        "          ##loop through each prediction and get the class prediction\n",
        "          for j in self.all_results[i]:\n",
        "              max = np.argmax(j)\n",
        "              class_pred.append(max)\n",
        "          self.temp_results.append(class_pred)\n",
        "      return\n",
        "\n",
        "  def aggregate_predictions(self):\n",
        "      '''\n",
        "      Selects highest occurance value, if draw, value with highest class selected\n",
        "      '''\n",
        "      uniq_counts = np.unique(self.temp_results, return_counts=True)\n",
        "      counts = uniq_counts[1]\n",
        "      uniques = uniq_counts[0]\n",
        "\n",
        "      all_max_idx  = np.where(counts == counts.max())[0]\n",
        "      max_idx = all_max_idx.max()\n",
        "      self.final_prediction = uniques[max_idx]\n",
        "      if self.final_prediction == 0:\n",
        "        self.clinical_pred = 'Green: No clinically significant '\\\n",
        "             'interaction expected.'\n",
        "      if self.final_prediction == 1:\n",
        "        self.clinical_pred = 'Yellow: Potential interaction of weak '\\\n",
        "             'clinical relevance for which additional action/monitoring '\\\n",
        "             'or dosage adjustment is not required.'\n",
        "      if self.final_prediction == 2:\n",
        "        self.clinical_pred = 'Amber: Potential clinically relevant '\\\n",
        "             'interaction that can be managed by clinical monitoring, '\\\n",
        "             'alteration of drug dosage or timing of administration.'\n",
        "      if self.final_prediction == 3:\n",
        "        self.clinical_pred = 'Red: These drugs should not be '\\\n",
        "             'co-administered as they may cause a deleterious effect '\\\n",
        "             '(e.g., loss of efficacy or toxicity of the ARV drug '\\\n",
        "             'or coadministered drug)'\n",
        "      return\n",
        "\n",
        "  def get_confidence_score(self):\n",
        "    idx_to_avg = np.argwhere(self.temp_results == self.final_prediction)\n",
        "    to_mean = []\n",
        "    for i in idx_to_avg:\n",
        "        to_mean.append(self.all_results[i[0]][0][self.final_prediction])\n",
        "    self.pred_confidence = np.round(np.mean(to_mean)* 100)\n",
        "    return\n",
        "\n",
        "  def predict(self, drugname_1, drugname_2):\n",
        "    ''' Models final prediction with confidence score and clinical explanation '''\n",
        "    # Convert drugs to FP\n",
        "    d1_fp = self.drugname_to_fp(drugname_1)\n",
        "    d2_fp = self.drugname_to_fp(drugname_2)\n",
        "\n",
        "     # Convert each drug to feature vector\n",
        "    d1_fv = self.create_feature_vector(d1_fp)\n",
        "    d2_fv = self.create_feature_vector(d2_fp)\n",
        "\n",
        "    # Prediction from all 5 models\n",
        "    self.ensemble_prediction(d1_fv, d2_fv)\n",
        "\n",
        "    # Aggregate all model predictions for final\n",
        "    self.aggregate_predictions()\n",
        "    #Output confidence\n",
        "    self.get_confidence_score()\n",
        "    print('\\n------------------------------')\n",
        "    print('         PREDICTIONS            ')\n",
        "    #print('Model output: ' , self.final_prediction)\n",
        "    print('Clinical prediction: ', self.clinical_pred)\n",
        "    print('Confidence: ', self.pred_confidence, '%')\n",
        "    print('------------------------------')\n"
      ]
    },
    {
      "cell_type": "markdown",
      "source": [
        "#Usage"
      ],
      "metadata": {
        "id": "ykrcT1P7khPH"
      }
    },
    {
      "cell_type": "markdown",
      "source": [
        "Given a drug pair of interest, our **pre-trained DeepARV** will predict DDI risks as '**traffic light**' system.\n",
        "\n",
        "\n",
        "*   Green – No clinically significant interaction expected\n",
        "*   Yellow – Potential interaction of weak clinical relevance for which additional action/monitoring or dosage adjustment is not required.\n",
        "*   Amber – Potential clinically relevant interaction that can be managed by clinical monitoring, alteration of drug dosage or timing of administration.\n",
        "*   Red – These drugs should not be co-administered as they may cause a deleterious effect (e.g., loss of efficacy or toxicity of the ARV drug or coadministered drug).\n",
        "\n",
        "\n",
        "\n",
        "Below is example of DDI risk prediction for ARV drug and antifungal comedication:\n",
        "\n",
        "> *Note: the first drug name has to be antiretroviral therapy (ARV)*"
      ],
      "metadata": {
        "id": "QZU3bc5LF__r"
      }
    },
    {
      "cell_type": "code",
      "source": [
        "deeparv = DeepARV()\n",
        "deeparv.predict('efavirenz','fluconazole')\n",
        "# the first drug name has to be antiretroviral therapy"
      ],
      "metadata": {
        "colab": {
          "base_uri": "https://localhost:8080/"
        },
        "id": "ZaBnc24GfkIu",
        "outputId": "8b9a6ca2-537b-4410-e564-3ed9402b9e99"
      },
      "execution_count": 93,
      "outputs": [
        {
          "output_type": "stream",
          "name": "stdout",
          "text": [
            "Loading models\n"
          ]
        },
        {
          "output_type": "stream",
          "name": "stderr",
          "text": [
            "100%|██████████| 5/5 [00:03<00:00,  1.29it/s]\n"
          ]
        },
        {
          "output_type": "stream",
          "name": "stdout",
          "text": [
            "\n",
            "Loading reference drugs\n",
            "1/1 [==============================] - 0s 87ms/step\n",
            "1/1 [==============================] - 0s 89ms/step\n",
            "1/1 [==============================] - 0s 82ms/step\n",
            "1/1 [==============================] - 0s 89ms/step\n",
            "1/1 [==============================] - 0s 94ms/step\n",
            "\n",
            "------------------------------\n",
            "         PREDICTIONS            \n",
            "Clinical prediction:  Amber: Potential clinically relevant interaction that can be managed by clinical monitoring, alteration of drug dosage or timing of administration.\n",
            "Confidence:  70.0 %\n",
            "------------------------------\n"
          ]
        }
      ]
    }
  ]
}