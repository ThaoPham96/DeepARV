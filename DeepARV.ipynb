{
  "cells": [
    {
      "cell_type": "markdown",
      "metadata": {
        "id": "-9bWAhdutxHN"
      },
      "source": [
        "#ABOUT"
      ]
    },
    {
      "cell_type": "markdown",
      "metadata": {
        "id": "ZCrPUn8Lt3vh"
      },
      "source": [
        "\n",
        "\n",
        "\n",
        "\n"
      ]
    },
    {
      "cell_type": "markdown",
      "metadata": {
        "id": "lA4Kzf9OWT8P"
      },
      "source": [
        "#Set up\n"
      ]
    },
    {
      "cell_type": "code",
      "execution_count": 1,
      "metadata": {
        "colab": {
          "base_uri": "https://localhost:8080/"
        },
        "id": "vOa9oal8HRAt",
        "outputId": "f135f21b-6da7-40df-a3b7-8b4800f5fb76"
      },
      "outputs": [
        {
          "output_type": "stream",
          "name": "stdout",
          "text": [
            "Looking in indexes: https://pypi.org/simple, https://us-python.pkg.dev/colab-wheels/public/simple/\n",
            "Requirement already satisfied: tensorboard in /usr/local/lib/python3.9/dist-packages (2.12.1)\n",
            "Requirement already satisfied: tensorboard-data-server<0.8.0,>=0.7.0 in /usr/local/lib/python3.9/dist-packages (from tensorboard) (0.7.0)\n",
            "Requirement already satisfied: werkzeug>=1.0.1 in /usr/local/lib/python3.9/dist-packages (from tensorboard) (2.2.3)\n",
            "Requirement already satisfied: setuptools>=41.0.0 in /usr/local/lib/python3.9/dist-packages (from tensorboard) (67.6.1)\n",
            "Requirement already satisfied: grpcio>=1.48.2 in /usr/local/lib/python3.9/dist-packages (from tensorboard) (1.53.0)\n",
            "Requirement already satisfied: google-auth<3,>=1.6.3 in /usr/local/lib/python3.9/dist-packages (from tensorboard) (2.17.1)\n",
            "Requirement already satisfied: wheel>=0.26 in /usr/local/lib/python3.9/dist-packages (from tensorboard) (0.40.0)\n",
            "Requirement already satisfied: absl-py>=0.4 in /usr/local/lib/python3.9/dist-packages (from tensorboard) (1.4.0)\n",
            "Requirement already satisfied: protobuf>=3.19.6 in /usr/local/lib/python3.9/dist-packages (from tensorboard) (3.20.3)\n",
            "Requirement already satisfied: markdown>=2.6.8 in /usr/local/lib/python3.9/dist-packages (from tensorboard) (3.4.3)\n",
            "Requirement already satisfied: google-auth-oauthlib<1.1,>=0.5 in /usr/local/lib/python3.9/dist-packages (from tensorboard) (1.0.0)\n",
            "Requirement already satisfied: numpy>=1.12.0 in /usr/local/lib/python3.9/dist-packages (from tensorboard) (1.22.4)\n",
            "Requirement already satisfied: requests<3,>=2.21.0 in /usr/local/lib/python3.9/dist-packages (from tensorboard) (2.27.1)\n",
            "Requirement already satisfied: tensorboard-plugin-wit>=1.6.0 in /usr/local/lib/python3.9/dist-packages (from tensorboard) (1.8.1)\n",
            "Requirement already satisfied: six>=1.9.0 in /usr/local/lib/python3.9/dist-packages (from google-auth<3,>=1.6.3->tensorboard) (1.16.0)\n",
            "Requirement already satisfied: pyasn1-modules>=0.2.1 in /usr/local/lib/python3.9/dist-packages (from google-auth<3,>=1.6.3->tensorboard) (0.2.8)\n",
            "Requirement already satisfied: rsa<5,>=3.1.4 in /usr/local/lib/python3.9/dist-packages (from google-auth<3,>=1.6.3->tensorboard) (4.9)\n",
            "Requirement already satisfied: cachetools<6.0,>=2.0.0 in /usr/local/lib/python3.9/dist-packages (from google-auth<3,>=1.6.3->tensorboard) (5.3.0)\n",
            "Requirement already satisfied: requests-oauthlib>=0.7.0 in /usr/local/lib/python3.9/dist-packages (from google-auth-oauthlib<1.1,>=0.5->tensorboard) (1.3.1)\n",
            "Requirement already satisfied: importlib-metadata>=4.4 in /usr/local/lib/python3.9/dist-packages (from markdown>=2.6.8->tensorboard) (6.1.0)\n",
            "Requirement already satisfied: urllib3<1.27,>=1.21.1 in /usr/local/lib/python3.9/dist-packages (from requests<3,>=2.21.0->tensorboard) (1.26.15)\n",
            "Requirement already satisfied: charset-normalizer~=2.0.0 in /usr/local/lib/python3.9/dist-packages (from requests<3,>=2.21.0->tensorboard) (2.0.12)\n",
            "Requirement already satisfied: idna<4,>=2.5 in /usr/local/lib/python3.9/dist-packages (from requests<3,>=2.21.0->tensorboard) (3.4)\n",
            "Requirement already satisfied: certifi>=2017.4.17 in /usr/local/lib/python3.9/dist-packages (from requests<3,>=2.21.0->tensorboard) (2022.12.7)\n",
            "Requirement already satisfied: MarkupSafe>=2.1.1 in /usr/local/lib/python3.9/dist-packages (from werkzeug>=1.0.1->tensorboard) (2.1.2)\n",
            "Requirement already satisfied: zipp>=0.5 in /usr/local/lib/python3.9/dist-packages (from importlib-metadata>=4.4->markdown>=2.6.8->tensorboard) (3.15.0)\n",
            "Requirement already satisfied: pyasn1<0.5.0,>=0.4.6 in /usr/local/lib/python3.9/dist-packages (from pyasn1-modules>=0.2.1->google-auth<3,>=1.6.3->tensorboard) (0.4.8)\n",
            "Requirement already satisfied: oauthlib>=3.0.0 in /usr/local/lib/python3.9/dist-packages (from requests-oauthlib>=0.7.0->google-auth-oauthlib<1.1,>=0.5->tensorboard) (3.2.2)\n"
          ]
        }
      ],
      "source": [
        "pip install tensorboard"
      ]
    },
    {
      "cell_type": "code",
      "execution_count": 2,
      "metadata": {
        "id": "g9puc8HN5CvR"
      },
      "outputs": [],
      "source": [
        "import tensorflow as tf\n",
        "import keras\n",
        "from numpy import argmax\n",
        "from sklearn.model_selection import train_test_split\n",
        "from sklearn.preprocessing import LabelEncoder\n",
        "from tensorflow.keras import Sequential\n",
        "from tensorflow.keras.layers import Dense\n",
        "import math\n",
        "import tensorflow.experimental.numpy as tnp\n",
        "import timeit\n",
        "import datetime, os\n",
        "import pandas as pd\n",
        "import numpy as np"
      ]
    },
    {
      "cell_type": "code",
      "execution_count": 3,
      "metadata": {
        "id": "tGsppCNW6LSG"
      },
      "outputs": [],
      "source": [
        "from tensorflow.keras.callbacks import Callback\n",
        "from sklearn.metrics import classification_report\n",
        "import keras\n",
        "from numpy import argmax\n",
        "from sklearn.model_selection import train_test_split\n",
        "from sklearn.preprocessing import LabelEncoder\n",
        "from tensorflow.keras import Sequential\n",
        "from tensorflow.keras.layers import Dense, Flatten, Activation, Dropout\n",
        "import math\n",
        "import tensorflow.experimental.numpy as tnp\n",
        "import timeit\n",
        "import datetime, os"
      ]
    },
    {
      "cell_type": "code",
      "execution_count": 4,
      "metadata": {
        "id": "qgGgRzRP7ujI"
      },
      "outputs": [],
      "source": [
        "import seaborn as sns\n",
        "import matplotlib.pyplot as plt"
      ]
    },
    {
      "cell_type": "code",
      "execution_count": 5,
      "metadata": {
        "colab": {
          "base_uri": "https://localhost:8080/"
        },
        "id": "JfaqDp2XHTb8",
        "outputId": "a0f172eb-4c7a-4111-f48b-35c8b1fae06d"
      },
      "outputs": [
        {
          "output_type": "stream",
          "name": "stdout",
          "text": [
            "Looking in indexes: https://pypi.org/simple, https://us-python.pkg.dev/colab-wheels/public/simple/\n",
            "Collecting tensorflow_addons\n",
            "  Downloading tensorflow_addons-0.20.0-cp39-cp39-manylinux_2_17_x86_64.manylinux2014_x86_64.whl (591 kB)\n",
            "\u001b[2K     \u001b[90m━━━━━━━━━━━━━━━━━━━━━━━━━━━━━━━━━━━━━━\u001b[0m \u001b[32m591.0/591.0 kB\u001b[0m \u001b[31m29.2 MB/s\u001b[0m eta \u001b[36m0:00:00\u001b[0m\n",
            "\u001b[?25hCollecting typeguard<3.0.0,>=2.7\n",
            "  Downloading typeguard-2.13.3-py3-none-any.whl (17 kB)\n",
            "Requirement already satisfied: packaging in /usr/local/lib/python3.9/dist-packages (from tensorflow_addons) (23.0)\n",
            "Installing collected packages: typeguard, tensorflow_addons\n",
            "Successfully installed tensorflow_addons-0.20.0 typeguard-2.13.3\n"
          ]
        },
        {
          "output_type": "stream",
          "name": "stderr",
          "text": [
            "/usr/local/lib/python3.9/dist-packages/tensorflow_addons/utils/tfa_eol_msg.py:23: UserWarning: \n",
            "\n",
            "TensorFlow Addons (TFA) has ended development and introduction of new features.\n",
            "TFA has entered a minimal maintenance and release mode until a planned end of life in May 2024.\n",
            "Please modify downstream libraries to take dependencies from other repositories in our TensorFlow community (e.g. Keras, Keras-CV, and Keras-NLP). \n",
            "\n",
            "For more information see: https://github.com/tensorflow/addons/issues/2807 \n",
            "\n",
            "  warnings.warn(\n"
          ]
        }
      ],
      "source": [
        "!pip install tensorflow_addons\n",
        "import tensorflow_addons as tfa"
      ]
    },
    {
      "cell_type": "markdown",
      "metadata": {
        "id": "auBAek99hP1v"
      },
      "source": [
        "#Function"
      ]
    },
    {
      "cell_type": "markdown",
      "metadata": {
        "id": "vsvI2ththSI6"
      },
      "source": [
        "###Confusion matrix"
      ]
    },
    {
      "cell_type": "code",
      "execution_count": 6,
      "metadata": {
        "id": "f17Kw62kEYy5"
      },
      "outputs": [],
      "source": [
        "#This function plots confusion matrix\n",
        "\n",
        "def plot_confusion_matrix(cf_matrix, \n",
        "                          x_class_labels, y_class_labels,\n",
        "                          axis_x_title,axis_y_title): \n",
        "    \n",
        "    cf_matrix = np.array(cf_matrix)\n",
        "    group_counts = [value for value in cf_matrix.flatten()]\n",
        "    labels = [f\"{v1}\"  \n",
        "              for v1 in \n",
        "              group_counts]\n",
        "    labels= np.asarray(labels).reshape(len(cf_matrix),\n",
        "                                       len(cf_matrix))\n",
        "    sns.set(font_scale=1)\n",
        "    from matplotlib import pyplot\n",
        "    pyplot.figure(\n",
        "                  figsize=(5, 2), \n",
        "                  dpi=150\n",
        "                  ) # width and height in inches\n",
        "    res = sns.heatmap(\n",
        "                      cf_matrix, annot=labels, \n",
        "                      fmt='', annot_kws={'size': 11.5}, \n",
        "                      cmap='Blues', \n",
        "                      xticklabels = x_class_labels, \n",
        "                      yticklabels = y_class_labels\n",
        "                      )\n",
        "    res.set_xticklabels(\n",
        "                        res.get_xmajorticklabels(), \n",
        "                        fontsize = 10.5\n",
        "                        )\n",
        "    res.set_yticklabels(\n",
        "                        res.get_ymajorticklabels(), \n",
        "                        fontsize = 10.5\n",
        "                        )\n",
        "    plt.xlabel(axis_x_title, size=11,fontweight='bold')\n",
        "    plt.ylabel(axis_y_title, size=11,fontweight='bold')   "
      ]
    },
    {
      "cell_type": "code",
      "execution_count": 7,
      "metadata": {
        "id": "mPUZtMZFW4LG"
      },
      "outputs": [],
      "source": [
        "#This function plots heatmap\n",
        "#for a given confusion matrix\n",
        "        #require: confusion matrix,\n",
        "        #...classes for x and y axis,\n",
        "        #...and title label for x and y axis\n",
        "\n",
        "def plot_normalised_cf(cf_matrix, \n",
        "                          x_class_labels, y_class_labels,\n",
        "                          axis_x_title,axis_y_title): \n",
        "    \n",
        "    #cf_matrix = np.array(cf_matrix)\n",
        "    cf_matrix_cal = np.array(cf_matrix)/np.sum(cf_matrix,axis=1)[:,np.newaxis]\n",
        "    cf_matrix_normalised = np.around(cf_matrix_cal,2)\n",
        "    group_counts = [value for value in cf_matrix_normalised.flatten()]\n",
        "    labels = [f\"{v1}\"  \n",
        "              for v1 in \n",
        "              group_counts]\n",
        "    labels= np.asarray(labels).reshape(len(cf_matrix_normalised),\n",
        "                                       len(cf_matrix_normalised))\n",
        "    sns.set(font_scale=1)\n",
        "    from matplotlib import pyplot\n",
        "    pyplot.figure(\n",
        "                  figsize=(5, 2), \n",
        "                  dpi=150\n",
        "                  ) # width and height in inches\n",
        "    res = sns.heatmap(\n",
        "                      cf_matrix_normalised, annot=labels, \n",
        "                      fmt='', annot_kws={'size': 11.5}, \n",
        "                      cmap='Purples', \n",
        "                      xticklabels = x_class_labels, \n",
        "                      yticklabels = y_class_labels\n",
        "                      )\n",
        "    res.set_xticklabels(\n",
        "                        res.get_xmajorticklabels(), \n",
        "                        fontsize = 10.5\n",
        "                        )\n",
        "    res.set_yticklabels(\n",
        "                        res.get_ymajorticklabels(), \n",
        "                        fontsize = 10.5\n",
        "                        )\n",
        "    plt.xlabel(axis_x_title, size=11,fontweight='bold')\n",
        "    plt.ylabel(axis_y_title, size=11,fontweight='bold')   "
      ]
    },
    {
      "cell_type": "markdown",
      "metadata": {
        "id": "LVAnCkd74xXb"
      },
      "source": [
        "###Metric for each class"
      ]
    },
    {
      "cell_type": "code",
      "execution_count": 8,
      "metadata": {
        "id": "_o3zQqyyVtx4"
      },
      "outputs": [],
      "source": [
        "#This function calculates true negative (tn),\n",
        "    #false positive (fp), false negative (fn),\n",
        "    #and true positive (tp) for each DDI class\n",
        "    #returns: accuracy, precision, sensitivity,\n",
        "    #specificity, f1 score and balanced accuracy\n",
        "\n",
        "def metrics_func(matrix): \n",
        "  tn = matrix[0][0] \n",
        "  fp = matrix[1][0]\n",
        "  fn = matrix[0][1]\n",
        "  tp = matrix[1][1]\n",
        "\n",
        "  accuracy = (tp+tn)/(tp+tn+fp+fn)\n",
        "  precision = tp/(tp+fp)\n",
        "  specificity = tn/(tn+fp)\n",
        "  sensitivity = tp/(tp+fn)\n",
        "  f1_score = (2*((precision*sensitivity) / \n",
        "                   (precision+sensitivity)))\n",
        "  BAcc = (sensitivity + specificity) / 2\n",
        "  return accuracy, precision, sensitivity, specificity, f1_score, BAcc"
      ]
    },
    {
      "cell_type": "markdown",
      "metadata": {
        "id": "UcLFwVFPkymh"
      },
      "source": [
        "## 5-fold cross validation"
      ]
    },
    {
      "cell_type": "code",
      "execution_count": 9,
      "metadata": {
        "id": "hucvaMm1_k06"
      },
      "outputs": [],
      "source": [
        "#create feedforward neural network model\n",
        "def build_model(feature): \n",
        "  model = Sequential()\n",
        "  model.add(Dense(1024, activation='relu', input_shape=(feature,))),\n",
        "  model.add(Dropout(0.2)),\n",
        "  model.add(Dense(512, activation='relu')),\n",
        "  model.add(Dropout(0.2)),\n",
        "  model.add(Dense(256, activation='relu')),\n",
        "  model.add(Dropout(0.2)),\n",
        "  model.add(Dense(128, activation='relu')),\n",
        "  model.add(Dropout(0.2)),\n",
        "  model.add(Dense(4, activation='softmax'))\n",
        "  tf.keras.optimizers.Adam(learning_rate=0.001, \n",
        "                          beta_1=0.9, beta_2=0.999, \n",
        "                          epsilon=1e-07, \n",
        "                          amsgrad=False,\n",
        "                          name='Adam')\n",
        "  model.compile(optimizer='Adam', \n",
        "                loss='sparse_categorical_crossentropy', \n",
        "                metrics=['accuracy'])\n",
        "  return model"
      ]
    },
    {
      "cell_type": "code",
      "execution_count": 10,
      "metadata": {
        "colab": {
          "base_uri": "https://localhost:8080/"
        },
        "id": "F_yiRSYSde17",
        "outputId": "6b4f6892-f4d0-456f-a4bf-104cf9a76063"
      },
      "outputs": [
        {
          "output_type": "stream",
          "name": "stdout",
          "text": [
            "Defined create_model and train_model\n"
          ]
        }
      ],
      "source": [
        "#This function allows the analysis of model weight and bias\n",
        "def train_model_weight(model, feature, label, epochs, batch_size, validation_split,\n",
        "                class_weights):\n",
        "  \"\"\"Train the model by feeding it data.\"\"\"\n",
        "\n",
        "  # Feed the feature values and the label values to the \n",
        "  # model. The model will train for the specified number \n",
        "  # of epochs, gradually learning how the feature values\n",
        "  # relate to the label values. \n",
        "  history = model.fit(x=feature,\n",
        "                      y=label,\n",
        "                      batch_size=batch_size,\n",
        "                      epochs=epochs, validation_split=validation_split,\n",
        "                      callbacks=[tensorboard_callback], \n",
        "                      class_weight = class_weights)\n",
        "  # Gather the trained model's weight and bias.\n",
        "  trained_weight = model.get_weights()[0]\n",
        "  trained_bias = model.get_weights()[1]\n",
        "  \n",
        "  '''\n",
        "  #print(history.history.keys())\n",
        "  plt.plot(history.history['accuracy'])\n",
        "  plt.plot(history.history['val_accuracy'])\n",
        "  plt.title('model accuracy')\n",
        "  plt.ylabel('accuracy')\n",
        "  plt.xlabel('epoch')\n",
        "  plt.legend(['train', 'test'], loc='upper left')\n",
        "  plt.show()\n",
        "  # summarize history for loss\n",
        "  plt.plot(history.history['loss'])\n",
        "  plt.plot(history.history['val_loss'])\n",
        "  plt.title('model loss')\n",
        "  plt.ylabel('loss')\n",
        "  plt.xlabel('epoch')\n",
        "  plt.legend(['train', 'test'], loc='upper left')\n",
        "  plt.show()\n",
        "  \n",
        "  # Gather the history (a snapshot) of each epoch.\n",
        "  hist = pd.DataFrame(history.history)\n",
        "  #print(hist)\n",
        "  '''\n",
        "  return trained_weight, trained_bias\n",
        "\n",
        "print(\"Defined create_model and train_model\")"
      ]
    },
    {
      "cell_type": "code",
      "execution_count": 11,
      "metadata": {
        "id": "W9VL4W0nvTye"
      },
      "outputs": [],
      "source": [
        "#This function perform stratified 5-fold split for each DDI class\n",
        "## given the dataset\n",
        "def classSplit(pd_df):\n",
        "    class_num = 4\n",
        "    class_dict = {}\n",
        "    for i in range(class_num):\n",
        "        class_dict[i] = pd_df[pd_df.Label == i].reset_index(drop=True)\n",
        "    class0_split = [class_dict[0][j::5] for j in range(5)]\n",
        "    class1_split = [class_dict[1][j::5] for j in range(5)]\n",
        "    class2_split = [class_dict[2][j::5] for j in range(5)]\n",
        "    class3_split = [class_dict[3][j::5] for j in range(5)]\n",
        "\n",
        "    fold = {}\n",
        "    frame ={}\n",
        "    for k in range(5):\n",
        "        frame[k] = [class0_split[k],class1_split[k], \n",
        "                    class2_split[k], class3_split[k]]\n",
        "        fold[k] = pd.concat(frame[k],ignore_index=True)\n",
        "    return fold"
      ]
    },
    {
      "cell_type": "code",
      "execution_count": 12,
      "metadata": {
        "id": "bX5y1JiymwrA"
      },
      "outputs": [],
      "source": [
        "#Downsampling Green (0) to same size as Amber (2)\n",
        "def downsampleMajority(df, n_models,n): \n",
        "  '''\n",
        "  Splits majority samples into n_models splits \n",
        "  df - df containing majoirt\n",
        "  n_models - number of models/data splits\n",
        "  n - number of samples per data split \n",
        "  '''\n",
        "  # Dictionary to store majority splits\n",
        "  majority_splits = {} \n",
        "\n",
        "  for i in range(n_models):\n",
        "    if i < (n_models-1):\n",
        "      \n",
        "      start = i*n\n",
        "      end = (i+1)*n\n",
        "      majority_splits[i] = df.iloc[start:end,:]\n",
        "    else: \n",
        "      majority_splits[i] = pd.concat([df.iloc[end:,:],df.sample(n=1604)])\n",
        "\n",
        "  return majority_splits"
      ]
    },
    {
      "cell_type": "code",
      "execution_count": 13,
      "metadata": {
        "id": "4XOetdB3tHoA"
      },
      "outputs": [],
      "source": [
        "#Combine majority and minority \n",
        "def trainCVSplit(train_cv):\n",
        "    minority = train_cv[train_cv.Label != 0]\n",
        "    majority = train_cv[train_cv.Label == 0].reset_index(drop=True\n",
        "                       ).sample(frac=1, random_state=42).reset_index(drop=True)\n",
        "                \n",
        "    #use downsampleMajority function to downsample majoriy\n",
        "    majority_dict = downsampleMajority(majority,5,3000)\n",
        "    train_split_dict = {} #dict to hold final training df\n",
        "    n_model = 5\n",
        "    feature_dict = {}\n",
        "    label_dict = {}\n",
        "\n",
        "    for i in range(5):\n",
        "        train_split_dict[i] = pd.concat([majority_dict[i],minority]\n",
        "                                        ).reset_index(drop=True\n",
        "                                        ).sample(frac=1,random_state=42\n",
        "                                        ).reset_index(drop=True)\n",
        "        feature_dict[i] = train_split_dict[i].drop(columns='Label')\n",
        "        label_dict[i] = train_split_dict[i].Label\n",
        "\n",
        "    return feature_dict, label_dict"
      ]
    },
    {
      "cell_type": "code",
      "execution_count": 14,
      "metadata": {
        "id": "7FODBBT7c_jl"
      },
      "outputs": [],
      "source": [
        "from sklearn.utils import class_weight"
      ]
    },
    {
      "cell_type": "code",
      "execution_count": 15,
      "metadata": {
        "id": "ZVozYhsaBxkB"
      },
      "outputs": [],
      "source": [
        "# This function builds model and perform cross-validation\n",
        "def singleCV(train,test, model_dict):\n",
        "    # undersample \n",
        "    feature, label = trainCVSplit(train)\n",
        "\n",
        "    # Build models and train \n",
        "    #model_dict = {}\n",
        "    #for i in range(5):\n",
        "        #class_weights = class_weight.compute_class_weight(class_weight='balanced',\n",
        "                                                  #classes = np.unique(label[i]),\n",
        "                                                 # y = label[i])\n",
        "        #class_weights_model = dict(zip(np.unique(label[i]), class_weights))\n",
        "        #print(class_weights_model)\n",
        "        #print(class_weights)\n",
        "        #model_dict[i] = build_model(1374)\n",
        "        #model_dict[i].fit(feature[i],label[i],epochs=30,\n",
        "                          #validation_split=0.1,\n",
        "                          #batch_size = 128, class_weight=class_weights_model,\n",
        "                          #callbacks=[tensorboard_callback])\n",
        "    \n",
        "    # Predict for all models\n",
        "    all_results = {} \n",
        "    temp_results = {}\n",
        "    for i in range(5):\n",
        "        #make prediction \n",
        "        all_results[i] = model_dict[i].predict(test.iloc[:,:-1])\n",
        "\n",
        "        #store each final class prediction per model in temp dict\n",
        "        class_pred = []\n",
        "        ##loop through each prediction and get the class prediction\n",
        "        for j in all_results[i]:\n",
        "            prob_avg = np.average(j)\n",
        "            class_pred.append(np.argmax(prob_avg))\n",
        "        temp_results[i] = class_pred\n",
        "    \n",
        "    # Vote max \n",
        "    df_vote = pd.DataFrame(data=temp_results)\n",
        "    df_vote['final_vote'] = df_vote.mode(axis=1).drop(columns=1).astype(int)\n",
        "\n",
        "    y_p_ohe = tf.keras.utils.to_categorical(df_vote.final_vote)\n",
        "    y_t_ohe = tf.keras.utils.to_categorical(test.iloc[:,-1])\n",
        "    metric = tfa.metrics.MultiLabelConfusionMatrix(num_classes=4)\n",
        "    metric.update_state(y_p_ohe, y_t_ohe)\n",
        "    result = metric.result()\n",
        "    result = result.numpy()\n",
        "    class_0 = metrics(result[0])\n",
        "    class_1 = metrics(result[1])\n",
        "    class_2 = metrics(result[2])\n",
        "    class_3 = metrics(result[3])\n",
        "\n",
        "    # Macro metrics \n",
        "    #accuracy, precision,  sensitivity, specificity, f1_score, BAcc\n",
        "    macro = np.mean((class_0, class_1, class_2, class_3), axis=0)\n",
        "    #print('\\n MACOR', macro)\n",
        "    macros = macro.reshape(1,-1)\n",
        "    each_class_results = np.vstack((class_0,class_1,class_2,class_3,macros))\n",
        "\n",
        "    return macros, each_class_results\n",
        "\n",
        "  "
      ]
    },
    {
      "cell_type": "markdown",
      "metadata": {
        "id": "0Rk5XCW2xJN4"
      },
      "source": [
        "##Execute "
      ]
    },
    {
      "cell_type": "code",
      "execution_count": 16,
      "metadata": {
        "id": "MDGrIsMC8Jmm"
      },
      "outputs": [],
      "source": [
        "!rm -rf logs/\n",
        "from tensorflow.keras.callbacks import TensorBoard\n",
        "%load_ext tensorboard\n",
        "log_folder = 'logs'"
      ]
    },
    {
      "cell_type": "code",
      "execution_count": 17,
      "metadata": {
        "id": "mgaceTw48UK3"
      },
      "outputs": [],
      "source": [
        "%reload_ext tensorboard\n",
        "logdir = os.path.join(\"logs/exp2\", datetime.datetime.now().strftime(\"%Y%m%d-%H%M%S\"))\n",
        "tensorboard_callback = tf.keras.callbacks.TensorBoard(logdir, histogram_freq=1,\n",
        "                                                      write_graph=True,\n",
        "                                                      write_images=True,\n",
        "                                                      update_freq='epoch',\n",
        "                                                      profile_batch=2,\n",
        "                                                      embeddings_freq=1)"
      ]
    },
    {
      "cell_type": "code",
      "execution_count": 41,
      "metadata": {
        "id": "TUYGLM_Tjpsk"
      },
      "outputs": [],
      "source": [
        "# 1. split the class \n",
        "# create df from x and y train\n",
        "# train_df = pd.DataFrame(data=X_train)\n",
        "# train_df['Label'] = y_train\n",
        "#train_df\n",
        "\n",
        "# func. to split class\n",
        "# train_5fold = classSplit(train_df)\n",
        "\n",
        "# 2. iterate 1 fold for testing/evaluation and 4 fold for training\n",
        "\n",
        "#Build 5 models\n",
        "#model_dict = {}\n",
        "#for i in range(5):\n",
        "    #model_dict[i] = build_model(1374)\n",
        "\n",
        "\n",
        "#Evaluation\n",
        "#results = np.zeros((5,6))\n",
        "#general_results = []\n",
        "#for f in range(5): \n",
        "    # reset folds \n",
        "    # folds = [0,1,2,3,4] \n",
        "    # test_idx = folds.pop(f) # take 0...4 from list\n",
        "    # test_ds = train_5fold[test_idx]\n",
        "    # train_ds = pd.concat([train_5fold[folds[0]], train_5fold[folds[1]],\n",
        "                          #train_5fold[folds[2]], train_5fold[folds[3]]])\n",
        "    \n",
        "    # res, all_res = singleCV(train_ds,test_ds, model_dict)\n",
        "\n",
        "    # results[f] = res\n",
        "    # general_results.append(all_res)\n",
        "    # %reload_ext tensorboard\n",
        "    #logdir = os.path.join(\"logs/exp2\", datetime.datetime.now().strftime(\n",
        "    #tensorboard_callback = tf.keras.callbacks.TensorBoard(logdir, \n",
        "                                                         # histogram_freq=1,\n",
        "                                                         # write_graph=True,\n",
        "                                                         # write_images=True,\n",
        "                                                         # update_freq='epoch',\n",
        "                                                        #  profile_batch=2,\n",
        "                                                        #  embeddings_freq=1)"
      ]
    },
    {
      "cell_type": "markdown",
      "metadata": {
        "id": "7_Qk5UzZ-G6T"
      },
      "source": [
        "#Load data"
      ]
    },
    {
      "cell_type": "code",
      "execution_count": 30,
      "metadata": {
        "id": "y5K3q2po4KWU"
      },
      "outputs": [],
      "source": [
        "# Loading training dataset\n",
        "  ## n = 23,318\n",
        "  ## X represents drug pair between 34 ARV and 695 comedication\n",
        "  ## y represents DDI classification \n",
        "     ## green (no DDI)= 0\n",
        "     ## yellow (minor DDI) = 1\n",
        "     ## amber (major DDI) = 2\n",
        "     ## red (extreme DDI) = 3\n",
        "X_train = np.load('/content/drive/MyDrive/liverpool_hiv/Cleaning_data/numpy_array/X_train_concat.npy')\n",
        "y_train = np.load('/content/drive/MyDrive/liverpool_hiv/Cleaning_data/numpy_array/Y_train_full.npy')"
      ]
    },
    {
      "cell_type": "code",
      "execution_count": 31,
      "metadata": {
        "id": "4IxXlQdu4Js1"
      },
      "outputs": [],
      "source": [
        "# Loading testing dataset (8 untrained ARV and 695 comedication)\n",
        "  ## n = 5824 drug pairs\n",
        "  ## X represents drug pair between ARV and comedication\n",
        "  ## y represents DDI classification \n",
        "     ## green (no DDI)= 0\n",
        "     ## yellow (minor DDI) = 1\n",
        "     ## amber (major DDI) = 2\n",
        "     ## red (extreme DDI) = 3\n",
        "X_test = np.load('/content/drive/MyDrive/liverpool_hiv/Cleaning_data/numpy_array/X_test_concat.npy')\n",
        "y_test = np.load('/content/drive/MyDrive/liverpool_hiv/Cleaning_data/numpy_array/Y_test_full.npy')"
      ]
    },
    {
      "cell_type": "code",
      "execution_count": 33,
      "metadata": {
        "colab": {
          "base_uri": "https://localhost:8080/"
        },
        "id": "OXDfnNN-jEqC",
        "outputId": "5531fac1-4a88-449f-b7cf-00100c0bac72"
      },
      "outputs": [
        {
          "output_type": "stream",
          "name": "stdout",
          "text": [
            "[[    0 16745]\n",
            " [    1  1782]\n",
            " [    2  3728]\n",
            " [    3  1063]]\n"
          ]
        }
      ],
      "source": [
        "# Distribution of DDI class in the training set\n",
        "unique, counts = np.unique(y_train, return_counts=True)\n",
        "print(np.asarray((unique, counts)).T)"
      ]
    },
    {
      "cell_type": "code",
      "execution_count": 34,
      "metadata": {
        "colab": {
          "base_uri": "https://localhost:8080/"
        },
        "id": "I6R9poEwFVIf",
        "outputId": "b815d877-ab06-44ea-ab3d-89414546f0a5"
      },
      "outputs": [
        {
          "output_type": "stream",
          "name": "stdout",
          "text": [
            "[[   0 3740]\n",
            " [   1  416]\n",
            " [   2 1234]\n",
            " [   3  434]]\n"
          ]
        }
      ],
      "source": [
        "# Distribution of DDI class in the testing set\n",
        "unique, counts = np.unique(y_test, return_counts=True)\n",
        "print(np.asarray((unique, counts)).T)"
      ]
    },
    {
      "cell_type": "markdown",
      "metadata": {
        "id": "6Lf8Cq1zDtTL"
      },
      "source": [
        "#Evaluation\n",
        "\n",
        "\n"
      ]
    },
    {
      "cell_type": "code",
      "execution_count": 49,
      "metadata": {
        "id": "H2OExvGCCz5n"
      },
      "outputs": [],
      "source": [
        "# Load trained DeepARV model (5 ensembles)\n",
        "model_trained = {}\n",
        "model_trained[0] = tf.keras.models.load_model('/content/drive/MyDrive/liverpool_hiv/Trained_Models/DeepARV_v1/DeepARV_model0')\n",
        "model_trained[1] = tf.keras.models.load_model('/content/drive/MyDrive/liverpool_hiv/Trained_Models/DeepARV_v1/DeepARV_model1')\n",
        "model_trained[2] = tf.keras.models.load_model('/content/drive/MyDrive/liverpool_hiv/Trained_Models/DeepARV_v1/DeepARV_model2')\n",
        "model_trained[3] = tf.keras.models.load_model('/content/drive/MyDrive/liverpool_hiv/Trained_Models/DeepARV_v1/DeepARV_model3')\n",
        "model_trained[4] = tf.keras.models.load_model('/content/drive/MyDrive/liverpool_hiv/Trained_Models/DeepARV_v1/DeepARV_model4')\n"
      ]
    },
    {
      "cell_type": "code",
      "execution_count": 68,
      "metadata": {
        "colab": {
          "base_uri": "https://localhost:8080/",
          "height": 298
        },
        "outputId": "139067ce-76de-4751-9bab-2c58a3ea33a4",
        "id": "GXtDLriV4uew"
      },
      "outputs": [
        {
          "output_type": "stream",
          "name": "stdout",
          "text": [
            "182/182 [==============================] - 0s 2ms/step\n",
            "182/182 [==============================] - 0s 2ms/step\n",
            "182/182 [==============================] - 0s 2ms/step\n",
            "182/182 [==============================] - 0s 2ms/step\n",
            "182/182 [==============================] - 0s 2ms/step\n"
          ]
        },
        {
          "output_type": "execute_result",
          "data": {
            "text/plain": [
              "        Accuracy  Precision  Sensitivity  Specificity  F1_score  \\\n",
              "Green   0.688702   0.914409     0.568449     0.904511  0.701072   \n",
              "Yellow  0.842033   0.253425     0.622596     0.858913  0.360223   \n",
              "Amber   0.712054   0.387734     0.619935     0.736819  0.477081   \n",
              "Red     0.916209   0.446429     0.518433     0.948237  0.479744   \n",
              "Macro   0.789749   0.500499     0.582353     0.862120  0.504530   \n",
              "\n",
              "        Balanced Accuracy  \n",
              "Green            0.736480  \n",
              "Yellow           0.740754  \n",
              "Amber            0.678377  \n",
              "Red              0.733335  \n",
              "Macro            0.722237  "
            ],
            "text/html": [
              "\n",
              "  <div id=\"df-6dc90b6f-dc55-45ae-9a86-03fa11153929\">\n",
              "    <div class=\"colab-df-container\">\n",
              "      <div>\n",
              "<style scoped>\n",
              "    .dataframe tbody tr th:only-of-type {\n",
              "        vertical-align: middle;\n",
              "    }\n",
              "\n",
              "    .dataframe tbody tr th {\n",
              "        vertical-align: top;\n",
              "    }\n",
              "\n",
              "    .dataframe thead th {\n",
              "        text-align: right;\n",
              "    }\n",
              "</style>\n",
              "<table border=\"1\" class=\"dataframe\">\n",
              "  <thead>\n",
              "    <tr style=\"text-align: right;\">\n",
              "      <th></th>\n",
              "      <th>Accuracy</th>\n",
              "      <th>Precision</th>\n",
              "      <th>Sensitivity</th>\n",
              "      <th>Specificity</th>\n",
              "      <th>F1_score</th>\n",
              "      <th>Balanced Accuracy</th>\n",
              "    </tr>\n",
              "  </thead>\n",
              "  <tbody>\n",
              "    <tr>\n",
              "      <th>Green</th>\n",
              "      <td>0.688702</td>\n",
              "      <td>0.914409</td>\n",
              "      <td>0.568449</td>\n",
              "      <td>0.904511</td>\n",
              "      <td>0.701072</td>\n",
              "      <td>0.736480</td>\n",
              "    </tr>\n",
              "    <tr>\n",
              "      <th>Yellow</th>\n",
              "      <td>0.842033</td>\n",
              "      <td>0.253425</td>\n",
              "      <td>0.622596</td>\n",
              "      <td>0.858913</td>\n",
              "      <td>0.360223</td>\n",
              "      <td>0.740754</td>\n",
              "    </tr>\n",
              "    <tr>\n",
              "      <th>Amber</th>\n",
              "      <td>0.712054</td>\n",
              "      <td>0.387734</td>\n",
              "      <td>0.619935</td>\n",
              "      <td>0.736819</td>\n",
              "      <td>0.477081</td>\n",
              "      <td>0.678377</td>\n",
              "    </tr>\n",
              "    <tr>\n",
              "      <th>Red</th>\n",
              "      <td>0.916209</td>\n",
              "      <td>0.446429</td>\n",
              "      <td>0.518433</td>\n",
              "      <td>0.948237</td>\n",
              "      <td>0.479744</td>\n",
              "      <td>0.733335</td>\n",
              "    </tr>\n",
              "    <tr>\n",
              "      <th>Macro</th>\n",
              "      <td>0.789749</td>\n",
              "      <td>0.500499</td>\n",
              "      <td>0.582353</td>\n",
              "      <td>0.862120</td>\n",
              "      <td>0.504530</td>\n",
              "      <td>0.722237</td>\n",
              "    </tr>\n",
              "  </tbody>\n",
              "</table>\n",
              "</div>\n",
              "      <button class=\"colab-df-convert\" onclick=\"convertToInteractive('df-6dc90b6f-dc55-45ae-9a86-03fa11153929')\"\n",
              "              title=\"Convert this dataframe to an interactive table.\"\n",
              "              style=\"display:none;\">\n",
              "        \n",
              "  <svg xmlns=\"http://www.w3.org/2000/svg\" height=\"24px\"viewBox=\"0 0 24 24\"\n",
              "       width=\"24px\">\n",
              "    <path d=\"M0 0h24v24H0V0z\" fill=\"none\"/>\n",
              "    <path d=\"M18.56 5.44l.94 2.06.94-2.06 2.06-.94-2.06-.94-.94-2.06-.94 2.06-2.06.94zm-11 1L8.5 8.5l.94-2.06 2.06-.94-2.06-.94L8.5 2.5l-.94 2.06-2.06.94zm10 10l.94 2.06.94-2.06 2.06-.94-2.06-.94-.94-2.06-.94 2.06-2.06.94z\"/><path d=\"M17.41 7.96l-1.37-1.37c-.4-.4-.92-.59-1.43-.59-.52 0-1.04.2-1.43.59L10.3 9.45l-7.72 7.72c-.78.78-.78 2.05 0 2.83L4 21.41c.39.39.9.59 1.41.59.51 0 1.02-.2 1.41-.59l7.78-7.78 2.81-2.81c.8-.78.8-2.07 0-2.86zM5.41 20L4 18.59l7.72-7.72 1.47 1.35L5.41 20z\"/>\n",
              "  </svg>\n",
              "      </button>\n",
              "      \n",
              "  <style>\n",
              "    .colab-df-container {\n",
              "      display:flex;\n",
              "      flex-wrap:wrap;\n",
              "      gap: 12px;\n",
              "    }\n",
              "\n",
              "    .colab-df-convert {\n",
              "      background-color: #E8F0FE;\n",
              "      border: none;\n",
              "      border-radius: 50%;\n",
              "      cursor: pointer;\n",
              "      display: none;\n",
              "      fill: #1967D2;\n",
              "      height: 32px;\n",
              "      padding: 0 0 0 0;\n",
              "      width: 32px;\n",
              "    }\n",
              "\n",
              "    .colab-df-convert:hover {\n",
              "      background-color: #E2EBFA;\n",
              "      box-shadow: 0px 1px 2px rgba(60, 64, 67, 0.3), 0px 1px 3px 1px rgba(60, 64, 67, 0.15);\n",
              "      fill: #174EA6;\n",
              "    }\n",
              "\n",
              "    [theme=dark] .colab-df-convert {\n",
              "      background-color: #3B4455;\n",
              "      fill: #D2E3FC;\n",
              "    }\n",
              "\n",
              "    [theme=dark] .colab-df-convert:hover {\n",
              "      background-color: #434B5C;\n",
              "      box-shadow: 0px 1px 3px 1px rgba(0, 0, 0, 0.15);\n",
              "      filter: drop-shadow(0px 1px 2px rgba(0, 0, 0, 0.3));\n",
              "      fill: #FFFFFF;\n",
              "    }\n",
              "  </style>\n",
              "\n",
              "      <script>\n",
              "        const buttonEl =\n",
              "          document.querySelector('#df-6dc90b6f-dc55-45ae-9a86-03fa11153929 button.colab-df-convert');\n",
              "        buttonEl.style.display =\n",
              "          google.colab.kernel.accessAllowed ? 'block' : 'none';\n",
              "\n",
              "        async function convertToInteractive(key) {\n",
              "          const element = document.querySelector('#df-6dc90b6f-dc55-45ae-9a86-03fa11153929');\n",
              "          const dataTable =\n",
              "            await google.colab.kernel.invokeFunction('convertToInteractive',\n",
              "                                                     [key], {});\n",
              "          if (!dataTable) return;\n",
              "\n",
              "          const docLinkHtml = 'Like what you see? Visit the ' +\n",
              "            '<a target=\"_blank\" href=https://colab.research.google.com/notebooks/data_table.ipynb>data table notebook</a>'\n",
              "            + ' to learn more about interactive tables.';\n",
              "          element.innerHTML = '';\n",
              "          dataTable['output_type'] = 'display_data';\n",
              "          await google.colab.output.renderOutput(dataTable, element);\n",
              "          const docLink = document.createElement('div');\n",
              "          docLink.innerHTML = docLinkHtml;\n",
              "          element.appendChild(docLink);\n",
              "        }\n",
              "      </script>\n",
              "    </div>\n",
              "  </div>\n",
              "  "
            ]
          },
          "metadata": {},
          "execution_count": 68
        }
      ],
      "source": [
        "# Performance on test set\n",
        "\n",
        "## dict containing all results\n",
        "all_results = {}\n",
        "##dict containing results from single ensemble\n",
        "temp_results = {}\n",
        "for i in range(5):\n",
        "    #make prediction\n",
        "    #iterate through each ensemble \n",
        "    all_results[i] = model_trained[i].predict(X_test)\n",
        "\n",
        "    #store each final class prediction per model in temp dict\n",
        "    class_pred = []\n",
        "    ##loop through each prediction and get the class prediction\n",
        "    for j in all_results[i]:\n",
        "        max = np.argmax(j)\n",
        "        class_pred.append(max)\n",
        "    temp_results[i] = class_pred\n",
        "\n",
        "# Macro metrics \n",
        "#accuracy, precision,  sensitivity, specificity, f1_score, BAcc\n",
        "macro = np.mean((class_0, class_1, class_2, class_3), axis=0)\n",
        "#print('\\n MACOR', macro)\n",
        "macros = macro.reshape(1,-1)\n",
        "each_class_results = np.vstack((class_0,class_1,class_2,class_3,macros))\n",
        "\n",
        "# Vote max \n",
        "df_vote_v2 = pd.DataFrame(data=temp_results)\n",
        "df_vote_v2[['final_vote_A','final_vote_B']] = df_vote_v2.mode(axis=1)\n",
        "final_vote = []\n",
        "for i in range(len(df_vote_v2)):\n",
        "  if np.isnan(df_vote_v2['final_vote_B'].iloc[i]) == True:\n",
        "    final_vote.append(int(df_vote_v2['final_vote_A'].iloc[i]))\n",
        "  if np.isnan(df_vote_v2['final_vote_B'].iloc[i]) != True:\n",
        "    final_vote.append(int(df_vote_v2['final_vote_B'].iloc[i]))\n",
        "df_vote_v2['final_vote'] = final_vote\n",
        "\n",
        "y_p_ohe = tf.keras.utils.to_categorical(df_vote_v2.final_vote)\n",
        "y_t_ohe = tf.keras.utils.to_categorical(y_test)\n",
        "metric = tfa.metrics.MultiLabelConfusionMatrix(num_classes=4)\n",
        "metric.update_state(y_p_ohe, y_t_ohe)\n",
        "result = metric.result()\n",
        "result = result.numpy()\n",
        "class_0 = metrics_func(result[0])\n",
        "class_1 = metrics_func(result[1])\n",
        "class_2 = metrics_func(result[2])\n",
        "class_3 = metrics_func(result[3])\n",
        "\n",
        "# Macro metrics \n",
        "#accuracy, precision,  sensitivity, specificity, f1_score, BAcc\n",
        "macro = np.mean((class_0, class_1, class_2, class_3), axis=0)\n",
        "macros = macro.reshape(1,-1)\n",
        "each_class_results = np.vstack((class_0,class_1,class_2,class_3,macros))\n",
        "\n",
        "\n",
        "\n",
        "#Print out result table\n",
        "df_hold = pd.DataFrame(columns =['Accuracy','Precision','Sensitivity',\n",
        "                               'Specificity','F1_score', 'Balanced Accuracy'], \n",
        "                       index=['Green','Yellow','Amber','Red','Macro'], \n",
        "                       data = each_class_results)\n",
        "df_hold\n"
      ]
    },
    {
      "cell_type": "code",
      "execution_count": 70,
      "metadata": {
        "colab": {
          "base_uri": "https://localhost:8080/",
          "height": 349
        },
        "id": "_MtIFLnb_59M",
        "outputId": "8bc2e8e2-a204-475e-890d-1311d49c12f8"
      },
      "outputs": [
        {
          "output_type": "display_data",
          "data": {
            "text/plain": [
              "<Figure size 750x300 with 2 Axes>"
            ],
            "image/png": "[encoded data removed]"
          },
          "metadata": {}
        }
      ],
      "source": [
        "# confusion matrix\n",
        "confusion_matrix_com = tf.math.confusion_matrix(y_test,df_vote_v2.final_vote, 4)\n",
        "\n",
        "# heatmap for confusion matrix\n",
        "plot_confusion_matrix(confusion_matrix_com,\n",
        "                      ['Green','Yellow','Amber','Red'],\n",
        "                      ['Green','Yellow','Amber','Red'],'DDI Prediction','Actual DDI')"
      ]
    },
    {
      "cell_type": "code",
      "execution_count": 72,
      "metadata": {
        "colab": {
          "base_uri": "https://localhost:8080/",
          "height": 350
        },
        "id": "RraCHhpAeVPb",
        "outputId": "010c7a4f-4e40-4766-f221-9d15e495c7ce"
      },
      "outputs": [
        {
          "output_type": "display_data",
          "data": {
            "text/plain": [
              "<Figure size 750x300 with 2 Axes>"
            ],
            "image/png": "[encoded data removed]"
          },
          "metadata": {}
        }
      ],
      "source": [
        "# Normalised confusion matrix of distributed DDI prediction versus \n",
        "## the true DDI on the test set of 5,824 drug pairs.\n",
        "plot_normalised_cf(confusion_matrix_com,\n",
        "                   ['Green','Yellow','Amber','Red'],\n",
        "                   ['Green','Yellow','Amber','Red'],\n",
        "                   'DDI Prediction','Actual DDI')"
      ]
    },
    {
      "cell_type": "markdown",
      "metadata": {
        "id": "v-xz0j5uA1TH"
      },
      "source": [
        "#Classical ML"
      ]
    },
    {
      "cell_type": "code",
      "execution_count": 73,
      "metadata": {
        "colab": {
          "base_uri": "https://localhost:8080/"
        },
        "id": "LGojVw3mybxw",
        "outputId": "78feded7-0735-49cf-99ba-5bfa04b9346c"
      },
      "outputs": [
        {
          "output_type": "stream",
          "name": "stdout",
          "text": [
            "[0 1 1 ... 3 1 3]\n",
            "f1-score 0.5988462318801717\n",
            "balanced accuracy GaussianNB: 0.6107334694435927\n",
            "accuracy GaussianNB: 0.5662774725274725\n",
            "------\n",
            "[0 0 0 ... 1 0 1]\n",
            "f1-score 0.7755920339902195\n",
            "balanced accuracy KNeighborsClassifier: 0.6176950415398327\n",
            "accuracy KNeighborsClassifier: 0.7841689560439561\n",
            "------\n",
            "[0 1 0 ... 3 0 1]\n",
            "f1-score 0.70364208077332\n",
            "balanced accuracy LinearSVC: 0.47399134617427724\n",
            "accuracy LinearSVC: 0.7417582417582418\n",
            "------\n"
          ]
        }
      ],
      "source": [
        "from sklearn.naive_bayes import GaussianNB\n",
        "from sklearn.neighbors import KNeighborsClassifier\n",
        "from sklearn.svm import LinearSVC\n",
        "from sklearn import metrics\n",
        "from sklearn.metrics import f1_score\n",
        "from sklearn.metrics import balanced_accuracy_score\n",
        "from sklearn.metrics import accuracy_score\n",
        "from sklearn.metrics import precision_score\n",
        "for Model in [GaussianNB, KNeighborsClassifier, LinearSVC]:\n",
        "    clf = Model().fit(X_train, y_train)\n",
        "    y_pred_classic = clf.predict(X_test)\n",
        "    print(y_pred_classic)\n",
        "    print('f1-score','%s' %\n",
        "          (\n",
        "           metrics.f1_score(y_test, y_pred_classic, average='weighted')))\n",
        "    print('balanced accuracy','%s: %s' %\n",
        "          (Model.__name__, \n",
        "           metrics.balanced_accuracy_score(y_test, y_pred_classic))) \n",
        "    print('accuracy','%s: %s' %\n",
        "          (Model.__name__, \n",
        "           metrics.accuracy_score(y_test, y_pred_classic)))\n",
        "    print('------')"
      ]
    },
    {
      "cell_type": "code",
      "source": [
        "y_pred_deep = {}\n",
        "temp_deep = {}\n",
        "for i in model_trained:\n",
        "    y_pred_deep[i] = model_trained[i].predict(X_test)\n",
        "    #store each final class prediction per model in temp dict\n",
        "    class_pred = []\n",
        "    ##loop through each prediction and get the class prediction\n",
        "    for j in y_pred_deep[i]:\n",
        "        max = np.argmax(j)\n",
        "        class_pred.append(max)\n",
        "    temp_deep[i] = class_pred\n",
        "    # Vote max \n",
        "df_vote = pd.DataFrame(data=temp_deep)\n",
        "df_vote['final_vote'] = df_vote.mode(axis=1).drop(columns=1).astype(int)\n",
        "    #print(temp_classic)\n",
        "print('f1-score','%s:' %\n",
        "          (metrics.f1_score(y_test, np.asarray(df_vote.final_vote), \n",
        "                            average='macro')))\n",
        "print('balanced accuracy','%s' %\n",
        "     (metrics.balanced_accuracy_score(y_test, np.asarray(df_vote.final_vote)))) \n",
        "print('accuracy','%s' %\n",
        "         (metrics.accuracy_score(y_test,np.asarray(df_vote.final_vote))))\n",
        "print('precision','%s' %\n",
        "         (metrics.precision_score(y_test,np.asarray(df_vote.final_vote), \n",
        "                                  average='macro')))\n",
        "print('------')"
      ],
      "metadata": {
        "colab": {
          "base_uri": "https://localhost:8080/"
        },
        "id": "R6AovIF9XAKB",
        "outputId": "47738d30-d43c-4f2e-d9b9-38418ef4ee44"
      },
      "execution_count": 74,
      "outputs": [
        {
          "output_type": "stream",
          "name": "stdout",
          "text": [
            "182/182 [==============================] - 0s 2ms/step\n",
            "182/182 [==============================] - 0s 2ms/step\n",
            "182/182 [==============================] - 0s 2ms/step\n",
            "182/182 [==============================] - 0s 2ms/step\n",
            "182/182 [==============================] - 0s 2ms/step\n",
            "f1-score 0.5136909481521782:\n",
            "balanced accuracy 0.5788280048062185\n",
            "accuracy 0.6105769230769231\n",
            "precision 0.5107651554279495\n",
            "------\n"
          ]
        }
      ]
    },
    {
      "cell_type": "markdown",
      "metadata": {
        "id": "AGRpxZh-b4XN"
      },
      "source": [
        "#Negative control"
      ]
    },
    {
      "cell_type": "code",
      "execution_count": 44,
      "metadata": {
        "id": "ezEbe6ZFKI8y"
      },
      "outputs": [],
      "source": [
        "feature = 1374"
      ]
    },
    {
      "cell_type": "code",
      "execution_count": 45,
      "metadata": {
        "id": "-5lwKXheb6-1"
      },
      "outputs": [],
      "source": [
        "#create negative control model\n",
        "model2_neg = Sequential()\n",
        "model2_neg.add(Dense(1024, activation='relu', \n",
        "                input_shape=(feature,))),\n",
        "model2_neg.add(Dense(512, activation='relu')),\n",
        "model2_neg.add(Dropout(0.2)),\n",
        "model2_neg.add(Dense(256, activation='relu')),\n",
        "model2_neg.add(Dropout(0.2)),\n",
        "model2_neg.add(Dense(128, activation='relu')),\n",
        "model2_neg.add(Dropout(0.2)),\n",
        "model2_neg.add(Dense(4, activation='softmax'))\n",
        "tf.keras.optimizers.Adam(learning_rate=0.001, \n",
        "                         beta_1=0.9, beta_2=0.999, \n",
        "                         epsilon=1e-07, \n",
        "                         amsgrad=False,\n",
        "                         name='Adam')\n",
        "model2_neg.compile(optimizer='Adam', \n",
        "              loss='sparse_categorical_crossentropy', \n",
        "              metrics=['accuracy'])"
      ]
    },
    {
      "cell_type": "code",
      "execution_count": 46,
      "metadata": {
        "colab": {
          "base_uri": "https://localhost:8080/"
        },
        "id": "XQmELtkXcOMf",
        "outputId": "b0976cfd-61a3-448f-d17d-75d43a2907f8"
      },
      "outputs": [
        {
          "output_type": "stream",
          "name": "stdout",
          "text": [
            "729/729 [==============================] - 2s 2ms/step - loss: 1.3924 - accuracy: 0.1624\n"
          ]
        },
        {
          "output_type": "execute_result",
          "data": {
            "text/plain": [
              "[1.3923813104629517, 0.16244961321353912]"
            ]
          },
          "metadata": {},
          "execution_count": 46
        }
      ],
      "source": [
        "#make prediction\n",
        "model2_neg.evaluate(X_train, y_train)"
      ]
    },
    {
      "cell_type": "code",
      "execution_count": 47,
      "metadata": {
        "colab": {
          "base_uri": "https://localhost:8080/",
          "height": 367
        },
        "id": "G-nMgXlqcHr3",
        "outputId": "07ea704f-3076-4da6-c4e8-239658147f5a"
      },
      "outputs": [
        {
          "output_type": "stream",
          "name": "stdout",
          "text": [
            "182/182 [==============================] - 0s 2ms/step\n"
          ]
        },
        {
          "output_type": "display_data",
          "data": {
            "text/plain": [
              "<Figure size 750x300 with 2 Axes>"
            ],
            "image/png": "[encoded data removed]"
          },
          "metadata": {}
        }
      ],
      "source": [
        "#confusion matrix\n",
        "Y_neg = model2_neg.predict(X_test)\n",
        "pred_neg = []\n",
        "for i in Y_neg:\n",
        "   max = np.argmax(i)\n",
        "   pred_neg.append(max)\n",
        "prediction_negative = np.vstack(pred_neg)\n",
        "\n",
        "confusion_matrix_neg = tf.math.confusion_matrix(y_test, prediction_negative, 4)\n",
        "\n",
        "#confusion_matrix print\n",
        "#print(confusion_matrix_neg)\n",
        "\n",
        "# heatmap for confusion matrix\n",
        "plot_confusion_matrix(confusion_matrix_neg,\n",
        "                      ['Green','Yellow','Amber','Red'],\n",
        "                      ['Green','Yellow','Ammber','Red'],'DDI Prediction','Actual DDI')"
      ]
    },
    {
      "cell_type": "code",
      "execution_count": 48,
      "metadata": {
        "colab": {
          "base_uri": "https://localhost:8080/"
        },
        "id": "7jWMdcQQdawt",
        "outputId": "eb3d1ea9-cb34-41c7-a7b5-85584ad9e657"
      },
      "outputs": [
        {
          "output_type": "stream",
          "name": "stdout",
          "text": [
            "[[   0 3740]\n",
            " [   1  416]\n",
            " [   2 1234]\n",
            " [   3  434]]\n"
          ]
        }
      ],
      "source": [
        "unique, counts = np.unique(y_test, return_counts=True)\n",
        "print(np.asarray((unique, counts)).T)"
      ]
    }
  ],
  "metadata": {
    "accelerator": "GPU",
    "colab": {
      "collapsed_sections": [
        "lA4Kzf9OWT8P"
      ],
      "machine_shape": "hm",
      "provenance": [],
      "toc_visible": true
    },
    "kernelspec": {
      "display_name": "Python 3",
      "name": "python3"
    },
    "language_info": {
      "name": "python"
    }
  },
  "nbformat": 4,
  "nbformat_minor": 0
}