{
  "cells": [
    {
      "cell_type": "markdown",
      "metadata": {
        "id": "view-in-github",
        "colab_type": "text"
      },
      "source": [
        "<a href=\"https://colab.research.google.com/github/ThaoPham96/DeepARV/blob/main/DeepARV_Evaluation.ipynb\" target=\"_parent\"><img src=\"https://colab.research.google.com/assets/colab-badge.svg\" alt=\"Open In Colab\"/></a>"
      ]
    },
    {
      "cell_type": "markdown",
      "metadata": {
        "id": "lA4Kzf9OWT8P"
      },
      "source": [
        "#Set up\n"
      ]
    },
    {
      "cell_type": "code",
      "execution_count": 1,
      "metadata": {
        "colab": {
          "base_uri": "https://localhost:8080/"
        },
        "id": "vOa9oal8HRAt",
        "outputId": "74752d70-bd9a-4576-9d09-9c7714455930"
      },
      "outputs": [
        {
          "output_type": "stream",
          "name": "stdout",
          "text": [
            "Requirement already satisfied: tensorboard in /usr/local/lib/python3.10/dist-packages (2.12.3)\n",
            "Requirement already satisfied: absl-py>=0.4 in /usr/local/lib/python3.10/dist-packages (from tensorboard) (1.4.0)\n",
            "Requirement already satisfied: grpcio>=1.48.2 in /usr/local/lib/python3.10/dist-packages (from tensorboard) (1.56.2)\n",
            "Requirement already satisfied: google-auth<3,>=1.6.3 in /usr/local/lib/python3.10/dist-packages (from tensorboard) (2.17.3)\n",
            "Requirement already satisfied: google-auth-oauthlib<1.1,>=0.5 in /usr/local/lib/python3.10/dist-packages (from tensorboard) (1.0.0)\n",
            "Requirement already satisfied: markdown>=2.6.8 in /usr/local/lib/python3.10/dist-packages (from tensorboard) (3.4.4)\n",
            "Requirement already satisfied: numpy>=1.12.0 in /usr/local/lib/python3.10/dist-packages (from tensorboard) (1.22.4)\n",
            "Requirement already satisfied: protobuf>=3.19.6 in /usr/local/lib/python3.10/dist-packages (from tensorboard) (3.20.3)\n",
            "Requirement already satisfied: requests<3,>=2.21.0 in /usr/local/lib/python3.10/dist-packages (from tensorboard) (2.27.1)\n",
            "Requirement already satisfied: setuptools>=41.0.0 in /usr/local/lib/python3.10/dist-packages (from tensorboard) (67.7.2)\n",
            "Requirement already satisfied: tensorboard-data-server<0.8.0,>=0.7.0 in /usr/local/lib/python3.10/dist-packages (from tensorboard) (0.7.1)\n",
            "Requirement already satisfied: werkzeug>=1.0.1 in /usr/local/lib/python3.10/dist-packages (from tensorboard) (2.3.6)\n",
            "Requirement already satisfied: wheel>=0.26 in /usr/local/lib/python3.10/dist-packages (from tensorboard) (0.41.0)\n",
            "Requirement already satisfied: cachetools<6.0,>=2.0.0 in /usr/local/lib/python3.10/dist-packages (from google-auth<3,>=1.6.3->tensorboard) (5.3.1)\n",
            "Requirement already satisfied: pyasn1-modules>=0.2.1 in /usr/local/lib/python3.10/dist-packages (from google-auth<3,>=1.6.3->tensorboard) (0.3.0)\n",
            "Requirement already satisfied: six>=1.9.0 in /usr/local/lib/python3.10/dist-packages (from google-auth<3,>=1.6.3->tensorboard) (1.16.0)\n",
            "Requirement already satisfied: rsa<5,>=3.1.4 in /usr/local/lib/python3.10/dist-packages (from google-auth<3,>=1.6.3->tensorboard) (4.9)\n",
            "Requirement already satisfied: requests-oauthlib>=0.7.0 in /usr/local/lib/python3.10/dist-packages (from google-auth-oauthlib<1.1,>=0.5->tensorboard) (1.3.1)\n",
            "Requirement already satisfied: urllib3<1.27,>=1.21.1 in /usr/local/lib/python3.10/dist-packages (from requests<3,>=2.21.0->tensorboard) (1.26.16)\n",
            "Requirement already satisfied: certifi>=2017.4.17 in /usr/local/lib/python3.10/dist-packages (from requests<3,>=2.21.0->tensorboard) (2023.7.22)\n",
            "Requirement already satisfied: charset-normalizer~=2.0.0 in /usr/local/lib/python3.10/dist-packages (from requests<3,>=2.21.0->tensorboard) (2.0.12)\n",
            "Requirement already satisfied: idna<4,>=2.5 in /usr/local/lib/python3.10/dist-packages (from requests<3,>=2.21.0->tensorboard) (3.4)\n",
            "Requirement already satisfied: MarkupSafe>=2.1.1 in /usr/local/lib/python3.10/dist-packages (from werkzeug>=1.0.1->tensorboard) (2.1.3)\n",
            "Requirement already satisfied: pyasn1<0.6.0,>=0.4.6 in /usr/local/lib/python3.10/dist-packages (from pyasn1-modules>=0.2.1->google-auth<3,>=1.6.3->tensorboard) (0.5.0)\n",
            "Requirement already satisfied: oauthlib>=3.0.0 in /usr/local/lib/python3.10/dist-packages (from requests-oauthlib>=0.7.0->google-auth-oauthlib<1.1,>=0.5->tensorboard) (3.2.2)\n"
          ]
        }
      ],
      "source": [
        "pip install tensorboard"
      ]
    },
    {
      "cell_type": "code",
      "execution_count": 2,
      "metadata": {
        "id": "g9puc8HN5CvR"
      },
      "outputs": [],
      "source": [
        "import tensorflow as tf\n",
        "import keras\n",
        "from numpy import argmax\n",
        "from sklearn.model_selection import train_test_split\n",
        "from sklearn.preprocessing import LabelEncoder\n",
        "from tensorflow.keras import Sequential\n",
        "from tensorflow.keras.layers import Dense\n",
        "import math\n",
        "import tensorflow.experimental.numpy as tnp\n",
        "import timeit\n",
        "import datetime, os\n",
        "import pandas as pd\n",
        "import numpy as np"
      ]
    },
    {
      "cell_type": "code",
      "execution_count": 3,
      "metadata": {
        "id": "tGsppCNW6LSG"
      },
      "outputs": [],
      "source": [
        "from tensorflow.keras.callbacks import Callback\n",
        "from sklearn.metrics import classification_report\n",
        "import keras\n",
        "from numpy import argmax\n",
        "from sklearn.model_selection import train_test_split\n",
        "from sklearn.preprocessing import LabelEncoder\n",
        "from tensorflow.keras import Sequential\n",
        "from tensorflow.keras.layers import Dense, Flatten, Activation, Dropout\n",
        "import math\n",
        "import tensorflow.experimental.numpy as tnp\n",
        "import timeit\n",
        "import datetime, os"
      ]
    },
    {
      "cell_type": "code",
      "execution_count": 4,
      "metadata": {
        "id": "qgGgRzRP7ujI"
      },
      "outputs": [],
      "source": [
        "import seaborn as sns\n",
        "import matplotlib.pyplot as plt"
      ]
    },
    {
      "cell_type": "code",
      "execution_count": 5,
      "metadata": {
        "colab": {
          "base_uri": "https://localhost:8080/"
        },
        "id": "JfaqDp2XHTb8",
        "outputId": "f21ab60a-5045-4585-c61c-3768d154c690"
      },
      "outputs": [
        {
          "output_type": "stream",
          "name": "stdout",
          "text": [
            "Collecting tensorflow_addons\n",
            "  Downloading tensorflow_addons-0.21.0-cp310-cp310-manylinux_2_17_x86_64.manylinux2014_x86_64.whl (612 kB)\n",
            "\u001b[?25l     \u001b[90m━━━━━━━━━━━━━━━━━━━━━━━━━━━━━━━━━━━━━━━━\u001b[0m \u001b[32m0.0/612.1 kB\u001b[0m \u001b[31m?\u001b[0m eta \u001b[36m-:--:--\u001b[0m\r\u001b[2K     \u001b[91m━━━━━━━\u001b[0m\u001b[91m╸\u001b[0m\u001b[90m━━━━━━━━━━━━━━━━━━━━━━━━━━━━━━━\u001b[0m \u001b[32m122.9/612.1 kB\u001b[0m \u001b[31m3.5 MB/s\u001b[0m eta \u001b[36m0:00:01\u001b[0m\r\u001b[2K     \u001b[90m━━━━━━━━━━━━━━━━━━━━━━━━━━━━━━━━━━━━━━━\u001b[0m \u001b[32m612.1/612.1 kB\u001b[0m \u001b[31m9.6 MB/s\u001b[0m eta \u001b[36m0:00:00\u001b[0m\n",
            "\u001b[?25hRequirement already satisfied: packaging in /usr/local/lib/python3.10/dist-packages (from tensorflow_addons) (23.1)\n",
            "Collecting typeguard<3.0.0,>=2.7 (from tensorflow_addons)\n",
            "  Downloading typeguard-2.13.3-py3-none-any.whl (17 kB)\n",
            "Installing collected packages: typeguard, tensorflow_addons\n",
            "Successfully installed tensorflow_addons-0.21.0 typeguard-2.13.3\n"
          ]
        },
        {
          "output_type": "stream",
          "name": "stderr",
          "text": [
            "/usr/local/lib/python3.10/dist-packages/tensorflow_addons/utils/tfa_eol_msg.py:23: UserWarning: \n",
            "\n",
            "TensorFlow Addons (TFA) has ended development and introduction of new features.\n",
            "TFA has entered a minimal maintenance and release mode until a planned end of life in May 2024.\n",
            "Please modify downstream libraries to take dependencies from other repositories in our TensorFlow community (e.g. Keras, Keras-CV, and Keras-NLP). \n",
            "\n",
            "For more information see: https://github.com/tensorflow/addons/issues/2807 \n",
            "\n",
            "  warnings.warn(\n"
          ]
        }
      ],
      "source": [
        "!pip install tensorflow_addons\n",
        "import tensorflow_addons as tfa"
      ]
    },
    {
      "cell_type": "markdown",
      "metadata": {
        "id": "7_Qk5UzZ-G6T"
      },
      "source": [
        "#Load data"
      ]
    },
    {
      "cell_type": "code",
      "execution_count": 9,
      "metadata": {
        "id": "y5K3q2po4KWU"
      },
      "outputs": [],
      "source": [
        "# Loading training dataset\n",
        "  ## n = 23,318\n",
        "  ## X represents drug pair between 34 ARV and 695 comedication\n",
        "  ## y represents DDI classification\n",
        "X_train = np.load('/content/drive/MyDrive/liverpool_hiv/Cleaning_data/numpy_array/X_train_concat.npy')\n",
        "y_train = np.load('/content/drive/MyDrive/liverpool_hiv/Cleaning_data/numpy_array/Y_train_full.npy')"
      ]
    },
    {
      "cell_type": "code",
      "execution_count": 10,
      "metadata": {
        "id": "4IxXlQdu4Js1"
      },
      "outputs": [],
      "source": [
        "# Loading testing dataset (8 untrained ARV and 695 comedication)\n",
        "  ## n = 5824 drug pairs\n",
        "  ## X represents drug pair between ARV and comedication\n",
        "  ## y represents DDI classification\n",
        "X_test = np.load('/content/drive/MyDrive/liverpool_hiv/Cleaning_data/numpy_array/X_test_concat.npy')\n",
        "y_test = np.load('/content/drive/MyDrive/liverpool_hiv/Cleaning_data/numpy_array/Y_test_full.npy')"
      ]
    },
    {
      "cell_type": "code",
      "execution_count": 11,
      "metadata": {
        "colab": {
          "base_uri": "https://localhost:8080/"
        },
        "id": "OXDfnNN-jEqC",
        "outputId": "62dd6d9d-021a-42ad-e14e-0fbd4c7a5092"
      },
      "outputs": [
        {
          "output_type": "stream",
          "name": "stdout",
          "text": [
            "[[    0 16745]\n",
            " [    1  1782]\n",
            " [    2  3728]\n",
            " [    3  1063]]\n"
          ]
        }
      ],
      "source": [
        "# Distribution of DDI class in the training set\n",
        "unique, counts = np.unique(y_train, return_counts=True)\n",
        "print(np.asarray((unique, counts)).T)\n",
        "# DDI risks:\n",
        "  ## 0 = Green: No DDI expected\n",
        "  ## 1 = Yellow: Potential interaction of weak clinical relevance\n",
        "  ## 2 = Amber: Potential clinically relevant interaction\n",
        "  ## 3 = Red: These drugs should not be co-administered"
      ]
    },
    {
      "cell_type": "code",
      "execution_count": 12,
      "metadata": {
        "colab": {
          "base_uri": "https://localhost:8080/"
        },
        "id": "I6R9poEwFVIf",
        "outputId": "b87e9874-83e0-4383-b5ea-53ade828a44f"
      },
      "outputs": [
        {
          "output_type": "stream",
          "name": "stdout",
          "text": [
            "[[   0 3740]\n",
            " [   1  416]\n",
            " [   2 1234]\n",
            " [   3  434]]\n"
          ]
        }
      ],
      "source": [
        "# Distribution of DDI class in the testing set\n",
        "unique, counts = np.unique(y_test, return_counts=True)\n",
        "print(np.asarray((unique, counts)).T)\n",
        "# DDI risks:\n",
        "  ## 0 = Green: No DDI expected\n",
        "  ## 1 = Yellow: Potential interaction of weak clinical relevance\n",
        "  ## 2 = Amber: Potential clinically relevant interaction\n",
        "  ## 3 = Red: These drugs should not be co-administered"
      ]
    },
    {
      "cell_type": "markdown",
      "metadata": {
        "id": "auBAek99hP1v"
      },
      "source": [
        "#Function"
      ]
    },
    {
      "cell_type": "markdown",
      "metadata": {
        "id": "vsvI2ththSI6"
      },
      "source": [
        "###Confusion matrix"
      ]
    },
    {
      "cell_type": "code",
      "execution_count": 13,
      "metadata": {
        "id": "f17Kw62kEYy5"
      },
      "outputs": [],
      "source": [
        "#This function plots confusion matrix\n",
        "\n",
        "def plot_confusion_matrix(cf_matrix,\n",
        "                          x_class_labels, y_class_labels,\n",
        "                          axis_x_title,axis_y_title):\n",
        "\n",
        "    cf_matrix = np.array(cf_matrix)\n",
        "    group_counts = [value for value in cf_matrix.flatten()]\n",
        "    labels = [f\"{v1}\"\n",
        "              for v1 in\n",
        "              group_counts]\n",
        "    labels= np.asarray(labels).reshape(len(cf_matrix),\n",
        "                                       len(cf_matrix))\n",
        "    sns.set(font_scale=1)\n",
        "    from matplotlib import pyplot\n",
        "    pyplot.figure(\n",
        "                  figsize=(5, 2),\n",
        "                  dpi=150\n",
        "                  ) # width and height in inches\n",
        "    res = sns.heatmap(\n",
        "                      cf_matrix, annot=labels,\n",
        "                      fmt='', annot_kws={'size': 11.5},\n",
        "                      cmap='Blues',\n",
        "                      xticklabels = x_class_labels,\n",
        "                      yticklabels = y_class_labels\n",
        "                      )\n",
        "    res.set_xticklabels(\n",
        "                        res.get_xmajorticklabels(),\n",
        "                        fontsize = 10.5\n",
        "                        )\n",
        "    res.set_yticklabels(\n",
        "                        res.get_ymajorticklabels(),\n",
        "                        fontsize = 10.5\n",
        "                        )\n",
        "    plt.xlabel(axis_x_title, size=11,fontweight='bold')\n",
        "    plt.ylabel(axis_y_title, size=11,fontweight='bold')"
      ]
    },
    {
      "cell_type": "code",
      "execution_count": 14,
      "metadata": {
        "id": "mPUZtMZFW4LG"
      },
      "outputs": [],
      "source": [
        "#This function plots heatmap\n",
        "#for a given confusion matrix\n",
        "        #require: confusion matrix,\n",
        "        #...classes for x and y axis,\n",
        "        #...and title label for x and y axis\n",
        "\n",
        "def plot_normalised_cf(cf_matrix,\n",
        "                          x_class_labels, y_class_labels,\n",
        "                          axis_x_title,axis_y_title):\n",
        "\n",
        "    #cf_matrix = np.array(cf_matrix)\n",
        "    cf_matrix_cal = np.array(cf_matrix)/np.sum(cf_matrix,axis=1)[:,np.newaxis]\n",
        "    cf_matrix_normalised = np.around(cf_matrix_cal,2)\n",
        "    group_counts = [value for value in cf_matrix_normalised.flatten()]\n",
        "    labels = [f\"{v1}\"\n",
        "              for v1 in\n",
        "              group_counts]\n",
        "    labels= np.asarray(labels).reshape(len(cf_matrix_normalised),\n",
        "                                       len(cf_matrix_normalised))\n",
        "    sns.set(font_scale=1)\n",
        "    from matplotlib import pyplot\n",
        "    pyplot.figure(\n",
        "                  figsize=(5, 2),\n",
        "                  dpi=150\n",
        "                  ) # width and height in inches\n",
        "    res = sns.heatmap(\n",
        "                      cf_matrix_normalised, annot=labels,\n",
        "                      fmt='', annot_kws={'size': 11.5},\n",
        "                      cmap='Purples',\n",
        "                      xticklabels = x_class_labels,\n",
        "                      yticklabels = y_class_labels\n",
        "                      )\n",
        "    res.set_xticklabels(\n",
        "                        res.get_xmajorticklabels(),\n",
        "                        fontsize = 10.5\n",
        "                        )\n",
        "    res.set_yticklabels(\n",
        "                        res.get_ymajorticklabels(),\n",
        "                        fontsize = 10.5\n",
        "                        )\n",
        "    plt.xlabel(axis_x_title, size=11,fontweight='bold')\n",
        "    plt.ylabel(axis_y_title, size=11,fontweight='bold')"
      ]
    },
    {
      "cell_type": "markdown",
      "metadata": {
        "id": "LVAnCkd74xXb"
      },
      "source": [
        "###Metric for each class"
      ]
    },
    {
      "cell_type": "code",
      "execution_count": 15,
      "metadata": {
        "id": "_o3zQqyyVtx4"
      },
      "outputs": [],
      "source": [
        "#This function calculates true negative (tn),\n",
        "    #false positive (fp), false negative (fn),\n",
        "    #and true positive (tp) for each DDI class\n",
        "    #returns: accuracy, precision, sensitivity,\n",
        "    #specificity, f1 score and balanced accuracy\n",
        "\n",
        "def metrics_func(matrix):\n",
        "  tn = matrix[0][0]\n",
        "  fp = matrix[1][0]\n",
        "  fn = matrix[0][1]\n",
        "  tp = matrix[1][1]\n",
        "\n",
        "  accuracy = (tp+tn)/(tp+tn+fp+fn)\n",
        "  precision = tp/(tp+fp)\n",
        "  specificity = tn/(tn+fp)\n",
        "  sensitivity = tp/(tp+fn)\n",
        "  f1_score = (2*((precision*sensitivity) /\n",
        "                   (precision+sensitivity)))\n",
        "  BAcc = (sensitivity + specificity) / 2\n",
        "  return accuracy, precision, sensitivity, specificity, f1_score, BAcc"
      ]
    },
    {
      "cell_type": "markdown",
      "metadata": {
        "id": "6Lf8Cq1zDtTL"
      },
      "source": [
        "#Evaluation\n",
        "\n",
        "\n"
      ]
    },
    {
      "cell_type": "code",
      "execution_count": 16,
      "metadata": {
        "id": "H2OExvGCCz5n"
      },
      "outputs": [],
      "source": [
        "# Load trained DeepARV model (5 ensembles)\n",
        "model_trained = {}\n",
        "model_trained[0] = tf.keras.models.load_model('/content/drive/MyDrive/liverpool_hiv/Trained_Models/DeepARV_v1/DeepARV_model0')\n",
        "model_trained[1] = tf.keras.models.load_model('/content/drive/MyDrive/liverpool_hiv/Trained_Models/DeepARV_v1/DeepARV_model1')\n",
        "model_trained[2] = tf.keras.models.load_model('/content/drive/MyDrive/liverpool_hiv/Trained_Models/DeepARV_v1/DeepARV_model2')\n",
        "model_trained[3] = tf.keras.models.load_model('/content/drive/MyDrive/liverpool_hiv/Trained_Models/DeepARV_v1/DeepARV_model3')\n",
        "model_trained[4] = tf.keras.models.load_model('/content/drive/MyDrive/liverpool_hiv/Trained_Models/DeepARV_v1/DeepARV_model4')\n"
      ]
    },
    {
      "cell_type": "code",
      "execution_count": 18,
      "metadata": {
        "id": "GXtDLriV4uew",
        "colab": {
          "base_uri": "https://localhost:8080/",
          "height": 293
        },
        "outputId": "129d182c-1ed4-48e1-f9ea-a0d7481cacf1"
      },
      "outputs": [
        {
          "output_type": "stream",
          "name": "stdout",
          "text": [
            "182/182 [==============================] - 1s 3ms/step\n",
            "182/182 [==============================] - 1s 3ms/step\n",
            "182/182 [==============================] - 1s 3ms/step\n",
            "182/182 [==============================] - 0s 2ms/step\n",
            "182/182 [==============================] - 0s 2ms/step\n"
          ]
        },
        {
          "output_type": "execute_result",
          "data": {
            "text/plain": [
              "        Accuracy  Precision  Sensitivity  Specificity  F1_score  \\\n",
              "Green   0.688702   0.914409     0.568449     0.904511  0.701072   \n",
              "Yellow  0.842033   0.253425     0.622596     0.858913  0.360223   \n",
              "Amber   0.712054   0.387734     0.619935     0.736819  0.477081   \n",
              "Red     0.916209   0.446429     0.518433     0.948237  0.479744   \n",
              "Macro   0.789749   0.500499     0.582353     0.862120  0.504530   \n",
              "\n",
              "        Balanced Accuracy  \n",
              "Green            0.736480  \n",
              "Yellow           0.740754  \n",
              "Amber            0.678377  \n",
              "Red              0.733335  \n",
              "Macro            0.722237  "
            ],
            "text/html": [
              "\n",
              "\n",
              "  <div id=\"df-0f0da9cf-cbd1-461b-8cf6-28afd2031129\">\n",
              "    <div class=\"colab-df-container\">\n",
              "      <div>\n",
              "<style scoped>\n",
              "    .dataframe tbody tr th:only-of-type {\n",
              "        vertical-align: middle;\n",
              "    }\n",
              "\n",
              "    .dataframe tbody tr th {\n",
              "        vertical-align: top;\n",
              "    }\n",
              "\n",
              "    .dataframe thead th {\n",
              "        text-align: right;\n",
              "    }\n",
              "</style>\n",
              "<table border=\"1\" class=\"dataframe\">\n",
              "  <thead>\n",
              "    <tr style=\"text-align: right;\">\n",
              "      <th></th>\n",
              "      <th>Accuracy</th>\n",
              "      <th>Precision</th>\n",
              "      <th>Sensitivity</th>\n",
              "      <th>Specificity</th>\n",
              "      <th>F1_score</th>\n",
              "      <th>Balanced Accuracy</th>\n",
              "    </tr>\n",
              "  </thead>\n",
              "  <tbody>\n",
              "    <tr>\n",
              "      <th>Green</th>\n",
              "      <td>0.688702</td>\n",
              "      <td>0.914409</td>\n",
              "      <td>0.568449</td>\n",
              "      <td>0.904511</td>\n",
              "      <td>0.701072</td>\n",
              "      <td>0.736480</td>\n",
              "    </tr>\n",
              "    <tr>\n",
              "      <th>Yellow</th>\n",
              "      <td>0.842033</td>\n",
              "      <td>0.253425</td>\n",
              "      <td>0.622596</td>\n",
              "      <td>0.858913</td>\n",
              "      <td>0.360223</td>\n",
              "      <td>0.740754</td>\n",
              "    </tr>\n",
              "    <tr>\n",
              "      <th>Amber</th>\n",
              "      <td>0.712054</td>\n",
              "      <td>0.387734</td>\n",
              "      <td>0.619935</td>\n",
              "      <td>0.736819</td>\n",
              "      <td>0.477081</td>\n",
              "      <td>0.678377</td>\n",
              "    </tr>\n",
              "    <tr>\n",
              "      <th>Red</th>\n",
              "      <td>0.916209</td>\n",
              "      <td>0.446429</td>\n",
              "      <td>0.518433</td>\n",
              "      <td>0.948237</td>\n",
              "      <td>0.479744</td>\n",
              "      <td>0.733335</td>\n",
              "    </tr>\n",
              "    <tr>\n",
              "      <th>Macro</th>\n",
              "      <td>0.789749</td>\n",
              "      <td>0.500499</td>\n",
              "      <td>0.582353</td>\n",
              "      <td>0.862120</td>\n",
              "      <td>0.504530</td>\n",
              "      <td>0.722237</td>\n",
              "    </tr>\n",
              "  </tbody>\n",
              "</table>\n",
              "</div>\n",
              "      <button class=\"colab-df-convert\" onclick=\"convertToInteractive('df-0f0da9cf-cbd1-461b-8cf6-28afd2031129')\"\n",
              "              title=\"Convert this dataframe to an interactive table.\"\n",
              "              style=\"display:none;\">\n",
              "\n",
              "  <svg xmlns=\"http://www.w3.org/2000/svg\" height=\"24px\"viewBox=\"0 0 24 24\"\n",
              "       width=\"24px\">\n",
              "    <path d=\"M0 0h24v24H0V0z\" fill=\"none\"/>\n",
              "    <path d=\"M18.56 5.44l.94 2.06.94-2.06 2.06-.94-2.06-.94-.94-2.06-.94 2.06-2.06.94zm-11 1L8.5 8.5l.94-2.06 2.06-.94-2.06-.94L8.5 2.5l-.94 2.06-2.06.94zm10 10l.94 2.06.94-2.06 2.06-.94-2.06-.94-.94-2.06-.94 2.06-2.06.94z\"/><path d=\"M17.41 7.96l-1.37-1.37c-.4-.4-.92-.59-1.43-.59-.52 0-1.04.2-1.43.59L10.3 9.45l-7.72 7.72c-.78.78-.78 2.05 0 2.83L4 21.41c.39.39.9.59 1.41.59.51 0 1.02-.2 1.41-.59l7.78-7.78 2.81-2.81c.8-.78.8-2.07 0-2.86zM5.41 20L4 18.59l7.72-7.72 1.47 1.35L5.41 20z\"/>\n",
              "  </svg>\n",
              "      </button>\n",
              "\n",
              "\n",
              "\n",
              "    <div id=\"df-3aa91e19-b5de-4c27-9fe7-bdfe9b9853f1\">\n",
              "      <button class=\"colab-df-quickchart\" onclick=\"quickchart('df-3aa91e19-b5de-4c27-9fe7-bdfe9b9853f1')\"\n",
              "              title=\"Suggest charts.\"\n",
              "              style=\"display:none;\">\n",
              "\n",
              "<svg xmlns=\"http://www.w3.org/2000/svg\" height=\"24px\"viewBox=\"0 0 24 24\"\n",
              "     width=\"24px\">\n",
              "    <g>\n",
              "        <path d=\"M19 3H5c-1.1 0-2 .9-2 2v14c0 1.1.9 2 2 2h14c1.1 0 2-.9 2-2V5c0-1.1-.9-2-2-2zM9 17H7v-7h2v7zm4 0h-2V7h2v10zm4 0h-2v-4h2v4z\"/>\n",
              "    </g>\n",
              "</svg>\n",
              "      </button>\n",
              "    </div>\n",
              "\n",
              "<style>\n",
              "  .colab-df-quickchart {\n",
              "    background-color: #E8F0FE;\n",
              "    border: none;\n",
              "    border-radius: 50%;\n",
              "    cursor: pointer;\n",
              "    display: none;\n",
              "    fill: #1967D2;\n",
              "    height: 32px;\n",
              "    padding: 0 0 0 0;\n",
              "    width: 32px;\n",
              "  }\n",
              "\n",
              "  .colab-df-quickchart:hover {\n",
              "    background-color: #E2EBFA;\n",
              "    box-shadow: 0px 1px 2px rgba(60, 64, 67, 0.3), 0px 1px 3px 1px rgba(60, 64, 67, 0.15);\n",
              "    fill: #174EA6;\n",
              "  }\n",
              "\n",
              "  [theme=dark] .colab-df-quickchart {\n",
              "    background-color: #3B4455;\n",
              "    fill: #D2E3FC;\n",
              "  }\n",
              "\n",
              "  [theme=dark] .colab-df-quickchart:hover {\n",
              "    background-color: #434B5C;\n",
              "    box-shadow: 0px 1px 3px 1px rgba(0, 0, 0, 0.15);\n",
              "    filter: drop-shadow(0px 1px 2px rgba(0, 0, 0, 0.3));\n",
              "    fill: #FFFFFF;\n",
              "  }\n",
              "</style>\n",
              "\n",
              "    <script>\n",
              "      async function quickchart(key) {\n",
              "        const containerElement = document.querySelector('#' + key);\n",
              "        const charts = await google.colab.kernel.invokeFunction(\n",
              "            'suggestCharts', [key], {});\n",
              "      }\n",
              "    </script>\n",
              "\n",
              "      <script>\n",
              "\n",
              "function displayQuickchartButton(domScope) {\n",
              "  let quickchartButtonEl =\n",
              "    domScope.querySelector('#df-3aa91e19-b5de-4c27-9fe7-bdfe9b9853f1 button.colab-df-quickchart');\n",
              "  quickchartButtonEl.style.display =\n",
              "    google.colab.kernel.accessAllowed ? 'block' : 'none';\n",
              "}\n",
              "\n",
              "        displayQuickchartButton(document);\n",
              "      </script>\n",
              "      <style>\n",
              "    .colab-df-container {\n",
              "      display:flex;\n",
              "      flex-wrap:wrap;\n",
              "      gap: 12px;\n",
              "    }\n",
              "\n",
              "    .colab-df-convert {\n",
              "      background-color: #E8F0FE;\n",
              "      border: none;\n",
              "      border-radius: 50%;\n",
              "      cursor: pointer;\n",
              "      display: none;\n",
              "      fill: #1967D2;\n",
              "      height: 32px;\n",
              "      padding: 0 0 0 0;\n",
              "      width: 32px;\n",
              "    }\n",
              "\n",
              "    .colab-df-convert:hover {\n",
              "      background-color: #E2EBFA;\n",
              "      box-shadow: 0px 1px 2px rgba(60, 64, 67, 0.3), 0px 1px 3px 1px rgba(60, 64, 67, 0.15);\n",
              "      fill: #174EA6;\n",
              "    }\n",
              "\n",
              "    [theme=dark] .colab-df-convert {\n",
              "      background-color: #3B4455;\n",
              "      fill: #D2E3FC;\n",
              "    }\n",
              "\n",
              "    [theme=dark] .colab-df-convert:hover {\n",
              "      background-color: #434B5C;\n",
              "      box-shadow: 0px 1px 3px 1px rgba(0, 0, 0, 0.15);\n",
              "      filter: drop-shadow(0px 1px 2px rgba(0, 0, 0, 0.3));\n",
              "      fill: #FFFFFF;\n",
              "    }\n",
              "  </style>\n",
              "\n",
              "      <script>\n",
              "        const buttonEl =\n",
              "          document.querySelector('#df-0f0da9cf-cbd1-461b-8cf6-28afd2031129 button.colab-df-convert');\n",
              "        buttonEl.style.display =\n",
              "          google.colab.kernel.accessAllowed ? 'block' : 'none';\n",
              "\n",
              "        async function convertToInteractive(key) {\n",
              "          const element = document.querySelector('#df-0f0da9cf-cbd1-461b-8cf6-28afd2031129');\n",
              "          const dataTable =\n",
              "            await google.colab.kernel.invokeFunction('convertToInteractive',\n",
              "                                                     [key], {});\n",
              "          if (!dataTable) return;\n",
              "\n",
              "          const docLinkHtml = 'Like what you see? Visit the ' +\n",
              "            '<a target=\"_blank\" href=https://colab.research.google.com/notebooks/data_table.ipynb>data table notebook</a>'\n",
              "            + ' to learn more about interactive tables.';\n",
              "          element.innerHTML = '';\n",
              "          dataTable['output_type'] = 'display_data';\n",
              "          await google.colab.output.renderOutput(dataTable, element);\n",
              "          const docLink = document.createElement('div');\n",
              "          docLink.innerHTML = docLinkHtml;\n",
              "          element.appendChild(docLink);\n",
              "        }\n",
              "      </script>\n",
              "    </div>\n",
              "  </div>\n"
            ]
          },
          "metadata": {},
          "execution_count": 18
        }
      ],
      "source": [
        "# Performance on test set\n",
        "\n",
        "## dict containing all results\n",
        "all_results = {}\n",
        "##dict containing results from single ensemble\n",
        "temp_results = {}\n",
        "for i in range(5):\n",
        "    #make prediction\n",
        "    #iterate through each ensemble\n",
        "    all_results[i] = model_trained[i].predict(X_test)\n",
        "\n",
        "    #store each final class prediction per model in temp dict\n",
        "    class_pred = []\n",
        "    ##loop through each prediction and get the class prediction\n",
        "    for j in all_results[i]:\n",
        "        max = np.argmax(j)\n",
        "        class_pred.append(max)\n",
        "    temp_results[i] = class_pred\n",
        "\n",
        "# Vote max\n",
        "df_vote_v2 = pd.DataFrame(data=temp_results)\n",
        "df_vote_v2[['final_vote_A','final_vote_B']] = df_vote_v2.mode(axis=1)\n",
        "final_vote = []\n",
        "for i in range(len(df_vote_v2)):\n",
        "  if np.isnan(df_vote_v2['final_vote_B'].iloc[i]) == True:\n",
        "    final_vote.append(int(df_vote_v2['final_vote_A'].iloc[i]))\n",
        "  if np.isnan(df_vote_v2['final_vote_B'].iloc[i]) != True:\n",
        "    final_vote.append(int(df_vote_v2['final_vote_B'].iloc[i]))\n",
        "df_vote_v2['final_vote'] = final_vote\n",
        "\n",
        "y_p_ohe = tf.keras.utils.to_categorical(df_vote_v2.final_vote)\n",
        "y_t_ohe = tf.keras.utils.to_categorical(y_test)\n",
        "metric = tfa.metrics.MultiLabelConfusionMatrix(num_classes=4)\n",
        "metric.update_state(y_p_ohe, y_t_ohe)\n",
        "result = metric.result()\n",
        "result = result.numpy()\n",
        "class_0 = metrics_func(result[0])\n",
        "class_1 = metrics_func(result[1])\n",
        "class_2 = metrics_func(result[2])\n",
        "class_3 = metrics_func(result[3])\n",
        "\n",
        "# Macro metrics\n",
        "#accuracy, precision,  sensitivity, specificity, f1_score, BAcc\n",
        "macro = np.mean((class_0, class_1, class_2, class_3), axis=0)\n",
        "macros = macro.reshape(1,-1)\n",
        "each_class_results = np.vstack((class_0,class_1,class_2,class_3,macros))\n",
        "\n",
        "\n",
        "\n",
        "#Print out result table\n",
        "df_hold = pd.DataFrame(columns =['Accuracy','Precision','Sensitivity',\n",
        "                               'Specificity','F1_score', 'Balanced Accuracy'],\n",
        "                       index=['Green','Yellow','Amber','Red','Macro'],\n",
        "                       data = each_class_results)\n",
        "df_hold\n"
      ]
    },
    {
      "cell_type": "code",
      "execution_count": 19,
      "metadata": {
        "id": "_MtIFLnb_59M",
        "colab": {
          "base_uri": "https://localhost:8080/",
          "height": 349
        },
        "outputId": "93823e4d-a693-4a9d-e71c-a086574a431b"
      },
      "outputs": [
        {
          "output_type": "display_data",
          "data": {
            "text/plain": [
              "<Figure size 750x300 with 2 Axes>"
            ],
            "image/png": "[encoded data removed]"
          },
          "metadata": {}
        }
      ],
      "source": [
        "# confusion matrix\n",
        "confusion_matrix_com = tf.math.confusion_matrix(y_test,df_vote_v2.final_vote, 4)\n",
        "\n",
        "# heatmap for confusion matrix\n",
        "plot_confusion_matrix(confusion_matrix_com,\n",
        "                      ['Green','Yellow','Amber','Red'],\n",
        "                      ['Green','Yellow','Amber','Red'],'DDI Prediction','Actual DDI')"
      ]
    },
    {
      "cell_type": "code",
      "execution_count": 20,
      "metadata": {
        "id": "RraCHhpAeVPb",
        "colab": {
          "base_uri": "https://localhost:8080/",
          "height": 350
        },
        "outputId": "add74a83-64e9-4256-940b-f96d1d88e87e"
      },
      "outputs": [
        {
          "output_type": "display_data",
          "data": {
            "text/plain": [
              "<Figure size 750x300 with 2 Axes>"
            ],
            "image/png": "[encoded data removed]"
          },
          "metadata": {}
        }
      ],
      "source": [
        "# Normalised confusion matrix of distributed DDI prediction versus\n",
        "## the true DDI on the test set of 5,824 drug pairs.\n",
        "plot_normalised_cf(confusion_matrix_com,\n",
        "                   ['Green','Yellow','Amber','Red'],\n",
        "                   ['Green','Yellow','Amber','Red'],\n",
        "                   'DDI Prediction','Actual DDI')"
      ]
    },
    {
      "cell_type": "markdown",
      "metadata": {
        "id": "v-xz0j5uA1TH"
      },
      "source": [
        "#Classical ML"
      ]
    },
    {
      "cell_type": "code",
      "execution_count": 21,
      "metadata": {
        "id": "LGojVw3mybxw",
        "colab": {
          "base_uri": "https://localhost:8080/"
        },
        "outputId": "5aae01b3-c730-4ac8-dd6e-8a6a5be3b858"
      },
      "outputs": [
        {
          "output_type": "stream",
          "name": "stdout",
          "text": [
            "[0 1 1 ... 3 1 3]\n",
            "f1-score 0.5988462318801717\n",
            "balanced accuracy GaussianNB: 0.6107334694435927\n",
            "accuracy GaussianNB: 0.5662774725274725\n",
            "------\n",
            "[0 0 0 ... 1 0 1]\n",
            "f1-score 0.7755920339902195\n",
            "balanced accuracy KNeighborsClassifier: 0.6176950415398327\n",
            "accuracy KNeighborsClassifier: 0.7841689560439561\n",
            "------\n",
            "[0 1 0 ... 3 0 1]\n",
            "f1-score 0.70364208077332\n",
            "balanced accuracy LinearSVC: 0.47399134617427724\n",
            "accuracy LinearSVC: 0.7417582417582418\n",
            "------\n"
          ]
        }
      ],
      "source": [
        "from sklearn.naive_bayes import GaussianNB\n",
        "from sklearn.neighbors import KNeighborsClassifier\n",
        "from sklearn.svm import LinearSVC\n",
        "from sklearn import metrics\n",
        "from sklearn.metrics import f1_score\n",
        "from sklearn.metrics import balanced_accuracy_score\n",
        "from sklearn.metrics import accuracy_score\n",
        "from sklearn.metrics import precision_score\n",
        "for Model in [GaussianNB, KNeighborsClassifier, LinearSVC]:\n",
        "    clf = Model().fit(X_train, y_train)\n",
        "    y_pred_classic = clf.predict(X_test)\n",
        "    print(y_pred_classic)\n",
        "    print('f1-score','%s' %\n",
        "          (\n",
        "           metrics.f1_score(y_test, y_pred_classic, average='weighted')))\n",
        "    print('balanced accuracy','%s: %s' %\n",
        "          (Model.__name__,\n",
        "           metrics.balanced_accuracy_score(y_test, y_pred_classic)))\n",
        "    print('accuracy','%s: %s' %\n",
        "          (Model.__name__,\n",
        "           metrics.accuracy_score(y_test, y_pred_classic)))\n",
        "    print('------')"
      ]
    }
  ],
  "metadata": {
    "accelerator": "GPU",
    "colab": {
      "collapsed_sections": [
        "lA4Kzf9OWT8P",
        "7_Qk5UzZ-G6T"
      ],
      "machine_shape": "hm",
      "provenance": [],
      "mount_file_id": "1bt-ZvgXOrIBRNIbhM1GNOTlXJuOr_Thm",
      "authorship_tag": "ABX9TyOUu7fPHE0jlBuxkOvyVfIe",
      "include_colab_link": true
    },
    "kernelspec": {
      "display_name": "Python 3",
      "name": "python3"
    },
    "language_info": {
      "name": "python"
    }
  },
  "nbformat": 4,
  "nbformat_minor": 0
}